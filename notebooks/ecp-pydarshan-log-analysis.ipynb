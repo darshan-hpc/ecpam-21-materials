{
 "cells": [
  {
   "cell_type": "markdown",
   "metadata": {},
   "source": [
    "# Darshan Analysis\n",
    "\n",
    "Basic Notebook to perform initial analysis of a single log.\n",
    "\n",
    "### Verify Install\n",
    "Verify that importing darshan works.\n",
    "If it throws an exception, probably becaues libdarshan-util.so is not found.\n",
    "You can install this from the darshan repo or search for the library on your system.\n",
    "\n",
    "> export LD_LIBRARY_PATH=<path/to/libdarshan-util.so>    "
   ]
  },
  {
   "cell_type": "code",
   "execution_count": 1,
   "metadata": {},
   "outputs": [],
   "source": [
    "import darshan"
   ]
  },
  {
   "cell_type": "code",
   "execution_count": 2,
   "metadata": {},
   "outputs": [],
   "source": [
    "# \n",
    "# Some other support libraries\n",
    "#\n",
    "import pprint\n",
    "import pandas"
   ]
  },
  {
   "cell_type": "markdown",
   "metadata": {},
   "source": [
    "## Point to your logfile\n",
    "- Point `logfile` to your logfile of interest.\n",
    "- Make sure your path is relative to where the notebook is running from"
   ]
  },
  {
   "cell_type": "code",
   "execution_count": 3,
   "metadata": {},
   "outputs": [],
   "source": [
    "logfile=\"logs/nwc.darshan\""
   ]
  },
  {
   "cell_type": "markdown",
   "metadata": {},
   "source": [
    "## Initialize the DarshanReport\n",
    "This object holds the entire data of the log.\n",
    "\n",
    "*read_all=True* will log the data from all supported records."
   ]
  },
  {
   "cell_type": "code",
   "execution_count": 4,
   "metadata": {},
   "outputs": [
    {
     "name": "stderr",
     "output_type": "stream",
     "text": [
      " Skipping. Log does not contain data for mod: LUSTRE\n"
     ]
    }
   ],
   "source": [
    "report = darshan.DarshanReport(logfile, read_all=True)"
   ]
  },
  {
   "cell_type": "markdown",
   "metadata": {},
   "source": [
    "### Log Overview and Metadata\n",
    "- Look at the 'Loaded Records' to see how many records are within each module.\n",
    "- Look at the 'Name Records' for the total number of known file records."
   ]
  },
  {
   "cell_type": "code",
   "execution_count": 5,
   "metadata": {},
   "outputs": [
    {
     "name": "stdout",
     "output_type": "stream",
     "text": [
      "Filename:       logs/nwc.darshan\n",
      "Times:          2021-04-14 00:24:17 to 2021-04-14 00:53:10 (Duration 0:28:53)\n",
      "Executeable:    ./nwchem flops.nw\n",
      "Processes:      28\n",
      "JobID:          334049\n",
      "UID:            3065\n",
      "Modules in Log: ['POSIX', 'STDIO']\n",
      "Loaded Records: {'POSIX': 90, 'STDIO': 3}\n",
      "Name Records:   69\n",
      "Darshan/Hints:  {'lib_ver': '3.2.1', 'h': 'romio_no_indep_rw=true;cb_nodes=4'}\n",
      "DarshanReport:  id(140475437709680) (tmp)\n"
     ]
    }
   ],
   "source": [
    "report.info()\n",
    "runtime = report.end_time - report.start_time\n",
    "runtime = runtime.total_seconds()\n",
    "nprocs = report.metadata['job']['nprocs']"
   ]
  },
  {
   "cell_type": "markdown",
   "metadata": {},
   "source": [
    "## Is I/O significant for your application runtime?\n",
    "- significant is usually >5% or >10%\n",
    "\n",
    "### Average I/O per rank"
   ]
  },
  {
   "cell_type": "code",
   "execution_count": 6,
   "metadata": {},
   "outputs": [
    {
     "name": "stdout",
     "output_type": "stream",
     "text": [
      "POSIX_F_READ_TIME     3.064029e-03\n",
      "POSIX_F_WRITE_TIME    4.551767e-05\n",
      "POSIX_F_META_TIME     3.479054e-04\n",
      "STDIO_F_READ_TIME     8.509946e-07\n",
      "STDIO_F_WRITE_TIME    3.650954e-07\n",
      "STDIO_F_META_TIME     2.835232e-05\n",
      "dtype: float64\n"
     ]
    },
    {
     "data": {
      "text/plain": [
       "<AxesSubplot:title={'center':'Average Rank I/O Ratio'}, ylabel='Ratio'>"
      ]
     },
     "execution_count": 6,
     "metadata": {},
     "output_type": "execute_result"
    },
    {
     "data": {
      "image/png": "[encoded data removed]",
      "text/plain": [
       "<Figure size 432x288 with 1 Axes>"
      ]
     },
     "metadata": {
      "needs_background": "light"
     },
     "output_type": "display_data"
    }
   ],
   "source": [
    "col_list = []\n",
    "slowest = []\n",
    "total_df = None\n",
    "\n",
    "if 'POSIX' in report.modules:\n",
    "    df = report.records['POSIX'].to_df()\n",
    "    posix_df = pandas.merge(df['counters'], df['fcounters'], left_on=['id','rank'], right_on=['id','rank'])\n",
    "    col_list += ['POSIX_F_READ_TIME', 'POSIX_F_WRITE_TIME', 'POSIX_F_META_TIME']\n",
    "    slowest += ['POSIX_F_SLOWEST_RANK_TIME']\n",
    "    \n",
    "if 'MPI-IO' in report.modules:\n",
    "    df = report.records['MPI-IO'].to_df()\n",
    "    mpiio_df = pandas.merge(df['counters'], df['fcounters'], left_on=['id','rank'], right_on=['id','rank'])\n",
    "    col_list += ['MPIIO_F_READ_TIME', 'MPIIO_F_WRITE_TIME', 'MPIIO_F_META_TIME']\n",
    "    slowest += ['MPIIO_F_SLOWEST_RANK_TIME']\n",
    "\n",
    "\n",
    "if 'STDIO' in report.modules:\n",
    "    df = report.records['STDIO'].to_df()\n",
    "    stdio_df = pandas.merge(df['counters'], df['fcounters'], left_on=['id','rank'], right_on=['id','rank'])\n",
    "    col_list += ['STDIO_F_READ_TIME', 'STDIO_F_WRITE_TIME', 'STDIO_F_META_TIME']\n",
    "    slowest += ['STDIO_F_SLOWEST_RANK_TIME']\n",
    "\n",
    "if all(x in report.modules for x in ['POSIX', 'MPI-IO', 'STDIO']):\n",
    "    total_df = pandas.merge(posix_df, mpiio_df, left_on=['id','rank'], right_on=['id','rank'], how='outer')\n",
    "    total_df = pandas.merge(total_df, stdio_df, left_on=['id','rank'], right_on=['id','rank'], how='outer')\n",
    "elif all(x in report.modules for x in ['POSIX', 'MPI-IO']):\n",
    "    total_df = pandas.merge(posix_df, mpiio_df, left_on=['id','rank'], right_on=['id','rank'], how='outer')\n",
    "elif all(x in report.modules for x in ['POSIX', 'STDIO']):\n",
    "    total_df = pandas.merge(posix_df, stdio_df, left_on=['id','rank'], right_on=['id','rank'], how='outer')\n",
    "else:\n",
    "    total_df = posix_df\n",
    "\n",
    "aseries = total_df[col_list].sum(axis=0).divide(runtime*nprocs)\n",
    "print(aseries)\n",
    "aseries.plot.bar(title='Average Rank I/O Ratio',ylabel='Ratio')\n"
   ]
  },
  {
   "cell_type": "markdown",
   "metadata": {},
   "source": [
    "### Slowest Rank I/O\n",
    "Looking at average time per rank can be deceiving if your I/O is imbalanced.\n",
    "- I/O is concentrated on a few ranks\n",
    "- I/O storage problem effected only part of system"
   ]
  },
  {
   "cell_type": "code",
   "execution_count": 7,
   "metadata": {},
   "outputs": [
    {
     "name": "stdout",
     "output_type": "stream",
     "text": [
      "      POSIX_F_SLOWEST_RANK_TIME  STDIO_F_SLOWEST_RANK_TIME\n",
      "rank                                                      \n",
      "-1                          0.0               1.851570e-07\n",
      "POSIX_F_READ_TIME     0.003229\n",
      "POSIX_F_WRITE_TIME    0.001274\n",
      "POSIX_F_META_TIME     0.000452\n",
      "STDIO_F_READ_TIME     0.000024\n",
      "STDIO_F_WRITE_TIME    0.000010\n",
      "STDIO_F_META_TIME     0.000794\n",
      "dtype: float64\n",
      "rank =  0\n"
     ]
    },
    {
     "data": {
      "image/png": "[encoded data removed]",
      "text/plain": [
       "<Figure size 432x288 with 1 Axes>"
      ]
     },
     "metadata": {
      "needs_background": "light"
     },
     "output_type": "display_data"
    }
   ],
   "source": [
    "gtotal_df = total_df.groupby('rank')\n",
    "shared_series = gtotal_df[slowest].sum().divide(runtime).head(n=1)\n",
    "nonshared_series = gtotal_df[col_list].sum().divide(runtime).drop(-1)\n",
    "\n",
    "if shared_series.shape[0] > 0:\n",
    "    print(shared_series)\n",
    "    #print(shared_series.max().max())\n",
    "    pass\n",
    "\n",
    "if nonshared_series.shape[0] > 0:\n",
    "    #print(nonshared_series)\n",
    "    print(nonshared_series.max())\n",
    "    #print(nonshared_series.idxmax())\n",
    "    #print(nonshared_series.shape)\n",
    "    key = nonshared_series.max().idxmax()\n",
    "    idx = nonshared_series.idxmax().get(key)\n",
    "    print(\"rank = \", idx)\n",
    "\n",
    "title='Worst Rank I/O Ratio'\n",
    "ylabel='Ratio'\n",
    "if shared_series.shape[0] > 0 and nonshared_series.shape[0] > 0:\n",
    "    worst = nonshared_series + shared_series.max().max()\n",
    "    worst.loc[idx].plot.bar(title=title,ylabel=ylabel)\n",
    "elif shared_series.shape[0] > 0:\n",
    "    worst = shared_series\n",
    "    worst.plot.bar(title=title,ylabel=ylabel)\n",
    "else:\n",
    "    worst = nonshared_series\n",
    "    worst.loc[idx].plot.bar(title=title,ylabel=ylabel)\n",
    "\n",
    "#print(worst)"
   ]
  },
  {
   "cell_type": "markdown",
   "metadata": {},
   "source": [
    "## Which Filesystem are your Using?\n",
    "- most HPC systems have a dedicated high speed storage system, make sure you're using it.\n",
    "- It's likely not you're home directory"
   ]
  },
  {
   "cell_type": "code",
   "execution_count": 8,
   "metadata": {},
   "outputs": [
    {
     "name": "stdout",
     "output_type": "stream",
     "text": [
      "\t\t\tData in GiB\n",
      "\t\t\t-----------\n",
      "                  POSIX_BYTES_READ  POSIX_BYTES_WRITTEN  STDIO_BYTES_READ  \\\n",
      "mount                                                                       \n",
      "/tmp/harms-dfuse          1.468804             1.095875          0.003009   \n",
      "Unknown                   0.000000             0.000000          0.000000   \n",
      "\n",
      "                  STDIO_BYTES_WRITTEN  \n",
      "mount                                  \n",
      "/tmp/harms-dfuse         2.229053e-03  \n",
      "Unknown                  8.167699e-07  \n",
      "\n",
      "####################\n",
      "Possible Filesystems\n",
      "####################\n",
      "[('/sys/firmware/efi/efivars', 'efivarfs'),\n",
      " ('/proc/sys/fs/binfmt_misc', 'autofs'),\n",
      " ('/sys/kernel/config', 'configfs'),\n",
      " ('/tmp/mlink-dfuse', 'fuse.daos'),\n",
      " ('/tmp/harms-dfuse', 'fuse.daos'),\n",
      " ('/sys/fs/pstore', 'pstore'),\n",
      " ('/dev/mqueue', 'mqueue'),\n",
      " ('/tmp/dfuse', 'fuse.daos'),\n",
      " ('/soft', 'nfs'),\n",
      " ('/home', 'nfs'),\n",
      " ('/dev', 'devtmpfs'),\n",
      " ('/', 'rootfs')]\n"
     ]
    }
   ],
   "source": [
    "total_df.loc[:,'mount'] = 'Unknown'\n",
    "total_df.loc[:,'mtype'] = 'Unknown'\n",
    "for index, row in total_df.iterrows():\n",
    "    for m in report.mounts:\n",
    "        if report.name_records[row['id']].startswith(m[0]):\n",
    "            total_df.at[index, 'mount'] = m[0]\n",
    "            total_df.at[index, 'mtype'] = m[1]\n",
    "            break\n",
    "gtotal_df = total_df.groupby('mount')\n",
    "posix_list = ['POSIX_BYTES_READ', 'POSIX_BYTES_WRITTEN']\n",
    "stdio_list = ['STDIO_BYTES_READ', 'STDIO_BYTES_WRITTEN']\n",
    "mpiio_list = ['MPIIO_BYTES_READ', 'MPIIO_BYTES_WRITTEN']\n",
    "col_list = ['mtype']\n",
    "if 'POSIX' in report.modules:\n",
    "    col_list += posix_list\n",
    "if 'STDIO' in report.modules:\n",
    "    col_list += stdio_list\n",
    "if 'MPI-IO' in report.modules:\n",
    "    col_list += mpiio_list\n",
    "print(\"\\t\\t\\tData in GiB\\n\\t\\t\\t-----------\")\n",
    "print(gtotal_df[col_list].sum().divide(1024*1024*1024))\n",
    "print()\n",
    "print('#'*20+\"\\nPossible Filesystems\\n\"+'#'*20)\n",
    "pprint.pprint(report.mounts)"
   ]
  },
  {
   "cell_type": "markdown",
   "metadata": {},
   "source": [
    "## File Count Sumamry\n",
    "- how many files are you using? Too many?\n",
    "- Consider most file systems support between 10k - 50k creates per second\n",
    "- How much data is in each file? Is that sufficient to offset the create/open cost?"
   ]
  },
  {
   "cell_type": "code",
   "execution_count": 9,
   "metadata": {},
   "outputs": [
    {
     "name": "stdout",
     "output_type": "stream",
     "text": [
      "########################################\n",
      "File Count Summary - Values in MiB\n",
      "########################################\n",
      "{'read-only': {'avg': 0.30081605911254883,\n",
      "               'max': 0.6005802154541016,\n",
      "               'number': 2},\n",
      " 'read-write': {'avg': 69.80010080337524,\n",
      "                'max': 555.6499128341675,\n",
      "                'number': 8},\n",
      " 'total': {'avg': 8.37398627266955,\n",
      "           'max': 555.6499128341675,\n",
      "           'number': 67},\n",
      " 'write-only': {'avg': 0.8854246139526367,\n",
      "                'max': 2.655824661254883,\n",
      "                'number': 3}}\n"
     ]
    }
   ],
   "source": [
    "table = {}\n",
    "unit = 1024*1024\n",
    "\n",
    "def file_count(condition, key):\n",
    "    t = total_df.query(condition).groupby('id').max()\n",
    "    c = t.shape[0]\n",
    "    if c > 0:\n",
    "        wkey = []\n",
    "        rkey = []\n",
    "        if 'POSIX_MAX_BYTE_WRITTEN' in t:\n",
    "            wkey.append('POSIX_MAX_BYTE_WRITTEN')\n",
    "            rkey.append('POSIX_MAX_BYTE_READ')\n",
    "        if 'STDIO_MAX_BYTE_WRITTEN' in t:\n",
    "            wkey.append('STDIO_MAX_BYTE_WRITTEN')\n",
    "            rkey.append('STDIO_MAX_BYTE_READ')\n",
    "        w = t[wkey].max().max() / unit\n",
    "        r = t[rkey].max().max() / unit\n",
    "        ws = t[wkey].sum().max() / unit\n",
    "        rs = t[rkey].sum().max() / unit\n",
    "        table[key] = { 'number': c, 'avg': max(ws,rs)/c, 'max': max(w,r) }\n",
    "\n",
    "condition = \"POSIX_OPENS > 0 | STDIO_OPENS > 0\"\n",
    "file_count(condition, 'total')\n",
    "\n",
    "condition = \"\"\n",
    "if 'POSIX' in report.modules:\n",
    "    condition += \"(POSIX_READS > 0 & POSIX_WRITES <= 0)\"\n",
    "if 'STDIO' in report.modules:\n",
    "    condition += '|' if condition else \"\"\n",
    "    condition += \"(STDIO_READS > 0 & STDIO_WRITES <= 0)\"\n",
    "file_count(condition, 'read-only')\n",
    "\n",
    "condition = \"\"\n",
    "if 'POSIX' in report.modules:\n",
    "    condition += \"(POSIX_WRITES > 0 & POSIX_READS <= 0)\"\n",
    "if 'STDIO' in report.modules:\n",
    "    condition += '|' if condition else \"\"\n",
    "    condition += \"(STDIO_WRITES > 0 & STDIO_READS <= 0)\"\n",
    "file_count(condition, 'write-only')\n",
    "\n",
    "condition = \"\"\n",
    "if 'POSIX' in report.modules:\n",
    "    condition += \"(POSIX_WRITES > 0 & POSIX_READS > 0)\"\n",
    "if 'STDIO' in report.modules:\n",
    "    condition += '|' if condition else \"\"\n",
    "    condition += \"(STDIO_WRITES > 0 & STDIO_READS > 0)\"\n",
    "file_count(condition, 'read-write')\n",
    "\n",
    "print('#'*40+\"\\nFile Count Summary - Values in MiB\\n\"+'#'*40)\n",
    "pprint.pprint(table, width=20)"
   ]
  },
  {
   "cell_type": "markdown",
   "metadata": {},
   "source": [
    "## I/O Operations\n",
    "Next we can look at total operations count.\n",
    "\n",
    "There isn't an absolute good or bad value for these counters. However, counts into the millions and billions\n",
    "may indicate the IOP load is likely higher than desired. Look at increasing the size of I/Os to reduce the number\n",
    "of operations.\n",
    "\n",
    "High number of seeks, stats, flushes can also indicate areas that are degrading I/O performance."
   ]
  },
  {
   "cell_type": "code",
   "execution_count": 10,
   "metadata": {},
   "outputs": [
    {
     "data": {
      "text/plain": [
       "<AxesSubplot:title={'center':'Total I/O Operations'}, ylabel='Count of Operations'>"
      ]
     },
     "execution_count": 10,
     "metadata": {},
     "output_type": "execute_result"
    },
    {
     "data": {
      "image/png": "[encoded data removed]",
      "text/plain": [
       "<Figure size 432x288 with 1 Axes>"
      ]
     },
     "metadata": {
      "needs_background": "light"
     },
     "output_type": "display_data"
    }
   ],
   "source": [
    "col_list = []\n",
    "posix_list = ['POSIX_OPENS', 'POSIX_WRITES', 'POSIX_READS', 'POSIX_STATS', 'POSIX_SEEKS', \n",
    "            'POSIX_MMAPS', 'POSIX_FSYNCS']\n",
    "mpiio_list = ['MPIIO_INDEP_OPENS', 'MPIIO_COLL_OPENS', 'MPIIO_INDEP_WRITES', 'MPIIO_COLL_WRITES',\n",
    "              'MPIIO_INDEP_READS', 'MPIIO_COLL_READS', 'MPIIO_SYNCS']\n",
    "stdio_list = ['STDIO_OPENS', 'STDIO_WRITES', 'STDIO_READS', 'STDIO_SEEKS', 'STDIO_FLUSHES']\n",
    "if 'POSIX' in report.modules:\n",
    "    col_list += posix_list\n",
    "if 'MPI-IO' in report.modules:\n",
    "    col_list += mpiio_list\n",
    "if 'STDIO' in report.modules:\n",
    "    col_list += stdio_list\n",
    "\n",
    "series = total_df[col_list].sum(axis=0)\n",
    "#print(series)\n",
    "series.plot.bar(title='Total I/O Operations', ylabel=\"Count of Operations\")"
   ]
  },
  {
   "cell_type": "markdown",
   "metadata": {},
   "source": [
    "## I/O Access\n",
    "- small i/o is usaually inieffcient unless read/write buffering done by FS\n",
    "- larger sizes are usuaslly better"
   ]
  },
  {
   "cell_type": "code",
   "execution_count": 11,
   "metadata": {},
   "outputs": [
    {
     "data": {
      "image/png": "[encoded data removed]",
      "text/plain": [
       "<Figure size 432x288 with 1 Axes>"
      ]
     },
     "metadata": {
      "needs_background": "light"
     },
     "output_type": "display_data"
    }
   ],
   "source": [
    "if 'POSIX' in report.modules:\n",
    "    col_list = ['POSIX_SIZE_READ_0_100',    'POSIX_SIZE_WRITE_0_100',\n",
    "                'POSIX_SIZE_READ_100_1K',   'POSIX_SIZE_WRITE_100_1K',\n",
    "                'POSIX_SIZE_READ_1K_10K',   'POSIX_SIZE_WRITE_1K_10K',\n",
    "                'POSIX_SIZE_READ_10K_100K', 'POSIX_SIZE_WRITE_10K_100K',\n",
    "                'POSIX_SIZE_READ_100K_1M',  'POSIX_SIZE_WRITE_100K_1M',\n",
    "                'POSIX_SIZE_READ_1M_4M',    'POSIX_SIZE_WRITE_1M_4M',\n",
    "                'POSIX_SIZE_READ_4M_10M',   'POSIX_SIZE_WRITE_4M_10M',\n",
    "                'POSIX_SIZE_READ_10M_100M', 'POSIX_SIZE_WRITE_10M_100M',\n",
    "                'POSIX_SIZE_READ_100M_1G',  'POSIX_SIZE_WRITE_100M_1G',\n",
    "                'POSIX_SIZE_READ_1G_PLUS',  'POSIX_SIZE_WRITE_1G_PLUS']\n",
    "    series = total_df[col_list].sum(axis=0)\n",
    "    series.plot.bar(title=\"POSIX Access Sizes\", ylabel=\"Count (Total, All Procs)\",color=['m','g'])"
   ]
  },
  {
   "cell_type": "code",
   "execution_count": 12,
   "metadata": {},
   "outputs": [],
   "source": [
    "if 'MPI-IO' in report.modules:\n",
    "    col_list = ['MPIIO_SIZE_READ_AGG_0_100',    'MPIIO_SIZE_WRITE_AGG_0_100',\n",
    "                'MPIIO_SIZE_READ_AGG_100_1K',   'MPIIO_SIZE_WRITE_AGG_100_1K',\n",
    "                'MPIIO_SIZE_READ_AGG_1K_10K',   'MPIIO_SIZE_WRITE_AGG_1K_10K',\n",
    "                'MPIIO_SIZE_READ_AGG_10K_100K', 'MPIIO_SIZE_WRITE_AGG_10K_100K',\n",
    "                'MPIIO_SIZE_READ_AGG_100K_1M',  'MPIIO_SIZE_WRITE_AGG_100K_1M',\n",
    "                'MPIIO_SIZE_READ_AGG_1M_4M',    'MPIIO_SIZE_WRITE_AGG_1M_4M',\n",
    "                'MPIIO_SIZE_READ_AGG_4M_10M',   'MPIIO_SIZE_WRITE_AGG_4M_10M',\n",
    "                'MPIIO_SIZE_READ_AGG_10M_100M', 'MPIIO_SIZE_WRITE_AGG_10M_100M',\n",
    "                'MPIIO_SIZE_READ_AGG_100M_1G',  'MPIIO_SIZE_WRITE_AGG_100M_1G',\n",
    "                'MPIIO_SIZE_READ_AGG_1G_PLUS',  'MPIIO_SIZE_WRITE_AGG_1G_PLUS']\n",
    "    series = total_df[col_list].sum(axis=0)\n",
    "    series.plot.bar(title=\"MPI-IO Access Sizes\", ylabel=\"Count (Total, All Procs)\",color=['m','g'])"
   ]
  },
  {
   "cell_type": "markdown",
   "metadata": {},
   "source": [
    "### Most Common Access Sizes\n",
    "- Provides some insight into the exact access sizes in additional to the histogram buckets above"
   ]
  },
  {
   "cell_type": "code",
   "execution_count": 13,
   "metadata": {},
   "outputs": [
    {
     "name": "stdout",
     "output_type": "stream",
     "text": [
      "***********************************\n",
      "Top 4 POSIX Access Sizes (bytes)\n",
      "***********************************\n",
      "Access Size\tCount\n",
      "8192.0       191754.0\n",
      "1036728.0      1124.0\n",
      "4720.0          590.0\n",
      "66192.0         123.0\n",
      "dtype: float64\n"
     ]
    }
   ],
   "source": [
    "if 'POSIX' in report.modules:\n",
    "    a1 = total_df.groupby('POSIX_ACCESS1_ACCESS')['POSIX_ACCESS1_COUNT'].sum()\n",
    "    a2 = total_df.groupby('POSIX_ACCESS2_ACCESS')['POSIX_ACCESS2_COUNT'].sum()\n",
    "    a3 = total_df.groupby('POSIX_ACCESS3_ACCESS')['POSIX_ACCESS3_COUNT'].sum()\n",
    "    a4 = total_df.groupby('POSIX_ACCESS4_ACCESS')['POSIX_ACCESS4_COUNT'].sum()\n",
    "    a = a1.combine(a2, lambda a,b: a+b, fill_value=0)\n",
    "    a = a.combine(a3, lambda a,b: a+b, fill_value=0)\n",
    "    a = a.combine(a4, lambda a,b: a+b, fill_value=0)\n",
    "    print('*'*35+\"\\nTop 4 POSIX Access Sizes (bytes)\\n\"+'*'*35)\n",
    "    print(\"Access Size\\tCount\")\n",
    "    print(a.nlargest(n=4))\n",
    "\n",
    "if 'MPI-IO' in report.modules:\n",
    "    a1 = total_df.groupby('MPIIO_ACCESS1_ACCESS')['MPIIO_ACCESS1_COUNT'].sum()\n",
    "    a2 = total_df.groupby('MPIIO_ACCESS2_ACCESS')['MPIIO_ACCESS2_COUNT'].sum()\n",
    "    a3 = total_df.groupby('MPIIO_ACCESS3_ACCESS')['MPIIO_ACCESS3_COUNT'].sum()\n",
    "    a4 = total_df.groupby('MPIIO_ACCESS4_ACCESS')['MPIIO_ACCESS4_COUNT'].sum()\n",
    "    a = a1.combine(a2, lambda a,b: a+b, fill_value=0)\n",
    "    a = a.combine(a3, lambda a,b: a+b, fill_value=0)\n",
    "    a = a.combine(a4, lambda a,b: a+b, fill_value=0)\n",
    "    print('*'*35+\"\\nTop 4 MPI-IO Access Sizes (bytes)\\n\"+'*'*35)\n",
    "    print(\"Access Size\\tCount\")\n",
    "    print(a.nlargest(n=4))    "
   ]
  },
  {
   "cell_type": "markdown",
   "metadata": {},
   "source": [
    "### Analyze some particular files\n",
    "- Once you decided there is some I/O optimization to be done, you want to isolate a particular file or set of files\n",
    "- We can look for the files in which the most time is spent"
   ]
  },
  {
   "cell_type": "code",
   "execution_count": 14,
   "metadata": {
    "scrolled": false
   },
   "outputs": [
    {
     "name": "stdout",
     "output_type": "stream",
     "text": [
      "id\n",
      "11641766070449140699    163.315783\n",
      "5488786464065034539       2.107831\n",
      "15077444692940757778      0.120846\n",
      "2320671811137495062       0.083853\n",
      "Name: POSIX_F_TOTAL_TIME, dtype: float64\n",
      "******************************\n",
      "File with Max Time\n",
      "******************************\n",
      "/tmp/harms-dfuse/basis/library\n",
      "\n",
      "[0, 1, 2, 3, 4, 5, 6, 7, 8, 9, 10, 11, 12, 13, 14, 15, 16, 17, 18, 19, 20, 21, 22, 23, 24, 25, 26]\n",
      "\n",
      "                      rank  POSIX_OPENS  POSIX_READS  POSIX_SEEKS  \\\n",
      "id                                                                  \n",
      "11641766070449140699   351        702.0     191754.0      95418.0   \n",
      "\n",
      "                      POSIX_STATS  POSIX_MMAPS  POSIX_BYTES_READ  \\\n",
      "id                                                                 \n",
      "11641766070449140699       1404.0        -27.0      1.570849e+09   \n",
      "\n",
      "                      POSIX_MAX_BYTE_READ  POSIX_CONSEC_READS  \\\n",
      "id                                                              \n",
      "11641766070449140699           17003358.0             95634.0   \n",
      "\n",
      "                      POSIX_SEQ_READS  POSIX_MEM_ALIGNMENT  \\\n",
      "id                                                           \n",
      "11641766070449140699          95634.0                216.0   \n",
      "\n",
      "                      POSIX_FILE_ALIGNMENT  POSIX_MAX_READ_TIME_SIZE  \\\n",
      "id                                                                     \n",
      "11641766070449140699                  27.0                  221184.0   \n",
      "\n",
      "                      POSIX_SIZE_READ_1K_10K  POSIX_ACCESS1_ACCESS  \\\n",
      "id                                                                   \n",
      "11641766070449140699                191754.0              221184.0   \n",
      "\n",
      "                      POSIX_ACCESS1_COUNT  POSIX_F_OPEN_START_TIMESTAMP  \\\n",
      "id                                                                        \n",
      "11641766070449140699             191754.0                     28.835856   \n",
      "\n",
      "                      POSIX_F_READ_START_TIMESTAMP  \\\n",
      "id                                                   \n",
      "11641766070449140699                     29.182829   \n",
      "\n",
      "                      POSIX_F_CLOSE_START_TIMESTAMP  \\\n",
      "id                                                    \n",
      "11641766070449140699                      35.093297   \n",
      "\n",
      "                      POSIX_F_OPEN_END_TIMESTAMP  POSIX_F_READ_END_TIMESTAMP  \\\n",
      "id                                                                             \n",
      "11641766070449140699                  705.322332                  710.250172   \n",
      "\n",
      "                      POSIX_F_CLOSE_END_TIMESTAMP  POSIX_F_READ_TIME  \\\n",
      "id                                                                     \n",
      "11641766070449140699                   710.254592         148.587829   \n",
      "\n",
      "                      POSIX_F_META_TIME  POSIX_F_MAX_READ_TIME  \\\n",
      "id                                                               \n",
      "11641766070449140699          14.727954                0.13681   \n",
      "\n",
      "                      POSIX_F_TOTAL_TIME  \n",
      "id                                        \n",
      "11641766070449140699          163.315783  \n"
     ]
    }
   ],
   "source": [
    "if 'POSIX' in report.modules:\n",
    "    t = total_df.groupby('id').sum()\n",
    "    t['POSIX_F_TOTAL_TIME'] = t['POSIX_F_META_TIME'] + t['POSIX_F_WRITE_TIME'] + t['POSIX_F_READ_TIME']\n",
    "    top4 = t['POSIX_F_TOTAL_TIME'].nlargest(n=4)\n",
    "    print(top4)\n",
    "    id = top4.index[0]\n",
    "    file = t.query(\"id == {0}\".format(id))\n",
    "    pandas.set_option('max_columns', None)\n",
    "    print('*'*30+\"\\nFile with Max Time\\n\"+'*'*30)\n",
    "    print(report.name_records[id])\n",
    "    print()\n",
    "    print(total_df.query(\"id == {0}\".format(id))['rank'].to_list())\n",
    "    print()\n",
    "    print(file[file.columns[(file != 0).any()]])"
   ]
  },
  {
   "cell_type": "markdown",
   "metadata": {},
   "source": [
    "### How is the data distributed on file system?\n",
    "- if we lustre data, see how many stripes it has.\n",
    "- collectively accessed files should have stripe width > 1\n",
    "- file per process workloads likely want strip width = 1"
   ]
  },
  {
   "cell_type": "code",
   "execution_count": 15,
   "metadata": {},
   "outputs": [],
   "source": [
    "if 'LUSTRE' in report.modules:\n",
    "    pprint.pprint(report.counters['LUSTRE'])\n",
    "    for rec in report.records['LUSTRE']:\n",
    "        if rec['id'] == id:\n",
    "            print(rec)\n",
    "            break"
   ]
  },
  {
   "cell_type": "code",
   "execution_count": null,
   "metadata": {},
   "outputs": [],
   "source": []
  }
 ],
 "metadata": {
  "kernelspec": {
   "display_name": "Python 3",
   "language": "python",
   "name": "python3"
  },
  "language_info": {
   "codemirror_mode": {
    "name": "ipython",
    "version": 3
   },
   "file_extension": ".py",
   "mimetype": "text/x-python",
   "name": "python",
   "nbconvert_exporter": "python",
   "pygments_lexer": "ipython3",
   "version": "3.8.5"
  }
 },
 "nbformat": 4,
 "nbformat_minor": 4
}
