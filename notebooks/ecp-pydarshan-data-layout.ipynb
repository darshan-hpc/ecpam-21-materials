{
 "cells": [
  {
   "cell_type": "markdown",
   "metadata": {},
   "source": [
    "# PyDarshan Data Layout and Understanding\n",
    "This notebook walks through the pydarshan data structure to\n",
    "help understand how to access data in order to build analysis.\n",
    "\n",
    "### Minimum Python Version\n",
    "- 3.6 is the minimum version"
   ]
  },
  {
   "cell_type": "code",
   "execution_count": null,
   "metadata": {},
   "outputs": [],
   "source": [
    "import platform\n",
    "print(platform.python_version())"
   ]
  },
  {
   "cell_type": "markdown",
   "metadata": {},
   "source": [
    "#### Import darshan\n",
    "- If this fails with a traceback, it is most likely due to not finding the corresponding libdarshan-util.so library\n",
    "- export LD_LIBRARY_PATH=<path/to/darshan/lib> before running the notebook"
   ]
  },
  {
   "cell_type": "code",
   "execution_count": null,
   "metadata": {
    "slideshow": {
     "slide_type": "-"
    }
   },
   "outputs": [],
   "source": [
    "import darshan"
   ]
  },
  {
   "cell_type": "markdown",
   "metadata": {},
   "source": [
    "### Example log\n",
    "- we load an example log to walk through the data structures"
   ]
  },
  {
   "cell_type": "code",
   "execution_count": null,
   "metadata": {},
   "outputs": [],
   "source": [
    "logfile=\"logs/shane_macsio_id29959_5-22-32552-7035573431850780836_1590156158.darshan\"\n",
    "report = darshan.DarshanReport(logfile, read_all=True)"
   ]
  },
  {
   "cell_type": "markdown",
   "metadata": {},
   "source": [
    "### DarshanReport object\n",
    "- This object contains many methods for loading and processing logs\n",
    "- default is to load all known log entries into the default data set\n",
    "  - can instead disable loading and load ony logs from modules you are interested in"
   ]
  },
  {
   "cell_type": "code",
   "execution_count": null,
   "metadata": {},
   "outputs": [],
   "source": [
    "dir(report)"
   ]
  },
  {
   "cell_type": "markdown",
   "metadata": {},
   "source": [
    "### Log metadata summary\n",
    "- The info() method prints an overview of the log to standard out\n",
    "- useful for understanding what is in the log\n",
    "- Loaded Records shows which modules are present and how many records are in each\n",
    "- Name records indicates how many different \"files\" are in the log\n",
    "  - some name records are special like <STDOUT> that don't refer to an actual file"
   ]
  },
  {
   "cell_type": "code",
   "execution_count": null,
   "metadata": {},
   "outputs": [],
   "source": [
    "report.info()"
   ]
  },
  {
   "cell_type": "code",
   "execution_count": null,
   "metadata": {},
   "outputs": [],
   "source": [
    "import pprint"
   ]
  },
  {
   "cell_type": "markdown",
   "metadata": {},
   "source": [
    "### Name Records\n",
    "- this is a list of all the files the darshan log knows about\n",
    "- Some \"files\" may not be actual files and are place holders for their records, such as <STDOUT> or an HDF5 dataset\n",
    "- The key is a hash which can be used to correlate the file in the different modules\n",
    "  - for example, using MPI-IO to write a file, and MPI-IO then uses POSIX will have records\n",
    "    in both the POSIX and MPI-IO modules."
   ]
  },
  {
   "cell_type": "code",
   "execution_count": null,
   "metadata": {},
   "outputs": [],
   "source": [
    "pprint.pprint(report.name_records)"
   ]
  },
  {
   "cell_type": "markdown",
   "metadata": {},
   "source": [
    "### Mount File systems\n",
    "- the Mounts variable is a list of mount point names and file system types\n",
    "- the list is sorted from longest path to shortest path\n",
    "  - in order to determine which file system a file is on, match the path of the name record\n",
    "    with the longest matching mount\n",
    "  - note this can be incorrect if symlinking a file in one files system to another"
   ]
  },
  {
   "cell_type": "code",
   "execution_count": null,
   "metadata": {},
   "outputs": [],
   "source": [
    "pprint.pprint(report.mounts)"
   ]
  },
  {
   "cell_type": "markdown",
   "metadata": {},
   "source": [
    "### Records\n",
    "- this is where the data of the log is held, this is where you start for analysis\n",
    "- records is a dictionary with each key being a module that contains a DarshanRecordCollection object"
   ]
  },
  {
   "cell_type": "code",
   "execution_count": null,
   "metadata": {},
   "outputs": [],
   "source": [
    "pprint.pprint(report.records)"
   ]
  },
  {
   "cell_type": "markdown",
   "metadata": {},
   "source": [
    "### DarshanRecordCollection\n",
    "- this object is derived from collections.abc.MutableSequence\n",
    "- you can access each records like a sequence, [0], [1:3], etc..\n",
    "- it also has 3 functions that return the data in different formats (depending on your preference)\n",
    "- to_df() -> provides counters as pandas data frames\n",
    "- to_dict() -> provides counters as python dictionaries\n",
    "- to_numpy() -> provides counters as numpy arrays (this is the default representation)\n",
    "  - these 3 methods will be deepcopies of data if transforming from the loaded representation"
   ]
  },
  {
   "cell_type": "code",
   "execution_count": null,
   "metadata": {},
   "outputs": [],
   "source": [
    "dir(report.records['POSIX'])"
   ]
  },
  {
   "cell_type": "markdown",
   "metadata": {},
   "source": [
    "### Accessing DarshanRecordCollection objects\n",
    "- You can check the len() for the number of records in the object\n",
    "- Accessing the object like a sequence will return a dictionary-like reference that allows access to four\n",
    "  pieces of data\n",
    "  - id -> the hash which corresponds to the hash in the name_records\n",
    "  - rank -> the rank the data was collected on or -1 if the file was accessed by all ranks and data was reduced to \n",
    "    single record\n",
    "  - counters -> all integer counters\n",
    "  - fcounters -> all floating point counters\n",
    "- the representation of data within _counters_ and _fcounters_ defaults to numpy arrays but depends\n",
    "  on what _dtype_ was set when the records were loaded"
   ]
  },
  {
   "cell_type": "code",
   "execution_count": null,
   "metadata": {},
   "outputs": [],
   "source": [
    "print(\"num records = \", len(report.records['POSIX']))\n",
    "print(type(report.records['POSIX'][0]))\n",
    "pprint.pprint(report.records['POSIX'][0])"
   ]
  },
  {
   "cell_type": "markdown",
   "metadata": {},
   "source": [
    "### Numpy Format\n",
    "- the default format\n",
    "- use to_numpy() to get a deep copy of the data in this format\n",
    "- returns a list of dictionaries, one dictionary for each record\n",
    "- dictionary is the same format as the DarshanRecordCollection above\n",
    "- _counters_ and _fcounters_ contain the numpy array\n",
    "- this is format assumed by some of the experimental aggregators that are part of the library"
   ]
  },
  {
   "cell_type": "code",
   "execution_count": null,
   "metadata": {},
   "outputs": [],
   "source": [
    "np = report.records['POSIX'].to_numpy()\n",
    "pprint.pprint(np)"
   ]
  },
  {
   "cell_type": "markdown",
   "metadata": {},
   "source": [
    "To access a specific counters, you can generate a mapping of counters names to indexs"
   ]
  },
  {
   "cell_type": "code",
   "execution_count": null,
   "metadata": {},
   "outputs": [],
   "source": [
    "counter2index = dict(zip(report.counters['POSIX']['counters'],\n",
    "                         range(0, len(report.counters['POSIX']['counters']))))\n",
    "fcounter2index = dict(zip(report.counters['POSIX']['fcounters'],\n",
    "                         range(0, len(report.counters['POSIX']['fcounters']))))\n",
    "i = counter2index['POSIX_READS']\n",
    "print(np[0]['counters'][i])\n",
    "i = fcounter2index['POSIX_F_READ_TIME']\n",
    "print(np[0]['fcounters'][i])"
   ]
  },
  {
   "cell_type": "markdown",
   "metadata": {},
   "source": [
    "### Dictionary Format\n",
    "- use to_dict() to get a deep copy of the data in this format\n",
    "- returns a list of dictionaries, one dictionary for each record\n",
    "- dictionary is the same format as the DarshanRecordCollection above\n",
    "- _counters_ and _fcounters_ contain the dictionary\n",
    "  - counters names are the keys and the value is the counter value"
   ]
  },
  {
   "cell_type": "code",
   "execution_count": null,
   "metadata": {},
   "outputs": [],
   "source": [
    "d = report.records['POSIX'].to_dict()\n",
    "pprint.pprint(d)"
   ]
  },
  {
   "cell_type": "markdown",
   "metadata": {},
   "source": [
    "To access a specific counters, just use the counter name corresponding to integer or floating point counter"
   ]
  },
  {
   "cell_type": "code",
   "execution_count": null,
   "metadata": {},
   "outputs": [],
   "source": [
    "print(d[0]['counters']['POSIX_READS'])\n",
    "print(d[0]['fcounters']['POSIX_F_READ_TIME'])"
   ]
  },
  {
   "cell_type": "markdown",
   "metadata": {},
   "source": [
    "### Pandas DataFrame Format\n",
    "- use to_df() to get a deep copy of the data in this format\n",
    "- returns a dictionary with _counters_ and _fcounters_ members\n",
    "- _counters_ and _fcounters_ contain dataframes with all records\n",
    "  - counters names are the columns and the records are the rows\n",
    "  - _id_ and _rank_ are columns in the data frame"
   ]
  },
  {
   "cell_type": "code",
   "execution_count": null,
   "metadata": {},
   "outputs": [],
   "source": [
    "df = report.records['POSIX'].to_df()\n",
    "pprint.pprint(df)"
   ]
  },
  {
   "cell_type": "markdown",
   "metadata": {},
   "source": [
    "To access a specific counters, use the counter name for the column and use either the absolute index\n",
    "or the combination of rank and id."
   ]
  },
  {
   "cell_type": "code",
   "execution_count": null,
   "metadata": {},
   "outputs": [],
   "source": [
    "pdf = df['counters']\n",
    "# with index\n",
    "print(pdf.loc[0]['POSIX_READS'])\n",
    "pdf = df['fcounters']\n",
    "# with rank,id\n",
    "rank = pdf.loc[0]['rank']\n",
    "id = pdf.loc[0]['id']\n",
    "print(pdf.query(\"rank == {rank} and id == {id}\".format(rank=rank,id=id))['POSIX_F_READ_TIME'][0])"
   ]
  },
  {
   "cell_type": "markdown",
   "metadata": {},
   "source": [
    "The _counters_ and _fcounters_ can be merged into a single data set since all the column names are unique."
   ]
  },
  {
   "cell_type": "code",
   "execution_count": null,
   "metadata": {},
   "outputs": [],
   "source": [
    "import pandas\n",
    "posix_df = pandas.merge(df['counters'], df['fcounters'], left_on=['id','rank'], right_on=['id','rank'])\n",
    "print(posix_df)"
   ]
  },
  {
   "cell_type": "markdown",
   "metadata": {},
   "source": [
    "## Basic Plotting using Pandas\n",
    "- You can make quick plots with pandas in many cases\n",
    "- in some cases, pandas plotting expects the data with a different organization which may make them difficult to use"
   ]
  },
  {
   "cell_type": "code",
   "execution_count": null,
   "metadata": {},
   "outputs": [],
   "source": [
    "posix_ops=[\"POSIX_OPENS\", \"POSIX_READS\", \"POSIX_WRITES\", \"POSIX_SEEKS\", \"POSIX_STATS\", \"POSIX_MMAPS\"]\n",
    "posix_df.plot(kind='bar', x='id', y=posix_ops,\n",
    "              title='POSIX I/O Operation Counts per File', ylabel='Operation Count')"
   ]
  },
  {
   "cell_type": "markdown",
   "metadata": {},
   "source": [
    "## Counter Names\n",
    "- The code below will print out all the counter names that are defined by each module\n",
    "- counter names match the names defined in the C code as well as the darshan-parser output"
   ]
  },
  {
   "cell_type": "code",
   "execution_count": null,
   "metadata": {
    "scrolled": false
   },
   "outputs": [],
   "source": [
    "for key in report.counters.keys():\n",
    "    print(\"{1} Counters for {0} {1}\".format(key, '*'*10))\n",
    "    for counter in report.counters[key].keys():\n",
    "        pprint.pprint(report.counters[key][counter])"
   ]
  },
  {
   "cell_type": "code",
   "execution_count": null,
   "metadata": {},
   "outputs": [],
   "source": []
  }
 ],
 "metadata": {
  "kernelspec": {
   "display_name": "Python 3",
   "language": "python",
   "name": "python3"
  },
  "language_info": {
   "codemirror_mode": {
    "name": "ipython",
    "version": 3
   },
   "file_extension": ".py",
   "mimetype": "text/x-python",
   "name": "python",
   "nbconvert_exporter": "python",
   "pygments_lexer": "ipython3",
   "version": "3.8.5"
  }
 },
 "nbformat": 4,
 "nbformat_minor": 4
}
