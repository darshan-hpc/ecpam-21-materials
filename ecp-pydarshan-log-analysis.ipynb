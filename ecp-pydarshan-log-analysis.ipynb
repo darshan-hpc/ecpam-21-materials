{
 "cells": [
  {
   "cell_type": "markdown",
   "metadata": {},
   "source": [
    "# Darshan Analysis\n",
    "\n",
    "Basic Notebook to perform initial analysis of a single log.\n",
    "\n",
    "### Verify Install\n",
    "Verify that importing darshan works.\n",
    "If it throws an exception, probably becaues libdarshan-util.so is not found.\n",
    "You can install this from the darshan repo or search for the library on your system.\n",
    "\n",
    "> export LD_LIBRARY_PATH=<path/to/libdarshan-util.so>    "
   ]
  },
  {
   "cell_type": "code",
   "execution_count": 1,
   "metadata": {},
   "outputs": [],
   "source": [
    "import darshan"
   ]
  },
  {
   "cell_type": "code",
   "execution_count": 2,
   "metadata": {},
   "outputs": [],
   "source": [
    "# \n",
    "# Some other support libraries\n",
    "#\n",
    "import pprint\n",
    "import pandas"
   ]
  },
  {
   "cell_type": "markdown",
   "metadata": {},
   "source": [
    "## Point to your logfile\n",
    "- Point `logfile` to your logfile of interest.\n",
    "- Make sure your path is relative to where the notebook is running from"
   ]
  },
  {
   "cell_type": "code",
   "execution_count": 3,
   "metadata": {},
   "outputs": [],
   "source": [
    "#logfile=\"examples/example-logs/shane_macsio_id29959_5-22-32552-7035573431850780836_1590156158.darshan\"\n",
    "logfile=\"examples/example-logs/sample-badost.darshan\""
   ]
  },
  {
   "cell_type": "markdown",
   "metadata": {},
   "source": [
    "## Initialize the DarshanReport\n",
    "This object holds the entire data of the log.\n",
    "\n",
    "*read_all=True* will log the data from all supported records."
   ]
  },
  {
   "cell_type": "code",
   "execution_count": 4,
   "metadata": {},
   "outputs": [],
   "source": [
    "report = darshan.DarshanReport(logfile, read_all=True)"
   ]
  },
  {
   "cell_type": "markdown",
   "metadata": {},
   "source": [
    "### Log Overview and Metadata\n",
    "- Look at the 'Loaded Records' to see how many records are within each module.\n",
    "- Look at the 'Name Records' for the total number of known file records."
   ]
  },
  {
   "cell_type": "code",
   "execution_count": 5,
   "metadata": {},
   "outputs": [
    {
     "name": "stdout",
     "output_type": "stream",
     "text": [
      "Filename:       examples/example-logs/sample-badost.darshan\n",
      "Times:          2017-06-20 17:49:39 to 2017-06-20 18:02:38 (Duration 0:12:59)\n",
      "Executeable:    /global/project/projectdirs/m888/glock/tokio-abc-results/bin.edison/ior -H -k -w -o ior-posix.out -s 64 -f /global/project/projectdirs/m888/glock/tokio-abc-results/inputs/posix1m2.in\n",
      "Processes:      2048\n",
      "JobID:          6265799\n",
      "UID:            69615\n",
      "Modules in Log: ['POSIX', 'LUSTRE', 'STDIO']\n",
      "Loaded Records: {'POSIX': 2048, 'STDIO': 3, 'LUSTRE': 2048}\n",
      "Name Records:   2052\n",
      "Darshan/Hints:  {'lib_ver': '3.1.3', 'h': 'romio_no_indep_rw=true;cb_nodes=4'}\n",
      "DarshanReport:  id(140686286071984) (tmp)\n"
     ]
    }
   ],
   "source": [
    "report.info()\n",
    "runtime = report.end_time - report.start_time\n",
    "runtime = runtime.total_seconds()\n",
    "nprocs = report.metadata['job']['nprocs']"
   ]
  },
  {
   "cell_type": "markdown",
   "metadata": {},
   "source": [
    "## Is I/O significant for your application runtime?\n",
    "- significant is usually >5% or >10%\n",
    "\n",
    "### Average I/O per rank"
   ]
  },
  {
   "cell_type": "code",
   "execution_count": 6,
   "metadata": {},
   "outputs": [
    {
     "name": "stdout",
     "output_type": "stream",
     "text": [
      "POSIX_F_READ_TIME     0.000000e+00\n",
      "POSIX_F_WRITE_TIME    4.298572e-02\n",
      "POSIX_F_META_TIME     7.121179e-04\n",
      "STDIO_F_READ_TIME     1.438199e-05\n",
      "STDIO_F_WRITE_TIME    5.946297e-10\n",
      "STDIO_F_META_TIME     1.735394e-04\n",
      "dtype: float64\n"
     ]
    },
    {
     "data": {
      "text/plain": [
       "<AxesSubplot:title={'center':'Average Rank I/O Ratio'}, ylabel='Ratio'>"
      ]
     },
     "execution_count": 6,
     "metadata": {},
     "output_type": "execute_result"
    },
    {
     "data": {
      "image/png": "[encoded data removed]",
      "text/plain": [
       "<Figure size 432x288 with 1 Axes>"
      ]
     },
     "metadata": {
      "needs_background": "light"
     },
     "output_type": "display_data"
    }
   ],
   "source": [
    "col_list = []\n",
    "slowest = []\n",
    "total_df = None\n",
    "\n",
    "if 'POSIX' in report.modules:\n",
    "    df = report.records['POSIX'].to_df()\n",
    "    posix_df = pandas.merge(df['counters'], df['fcounters'], left_on=['id','rank'], right_on=['id','rank'])\n",
    "    col_list += ['POSIX_F_READ_TIME', 'POSIX_F_WRITE_TIME', 'POSIX_F_META_TIME']\n",
    "    slowest += ['POSIX_F_SLOWEST_RANK_TIME']\n",
    "    \n",
    "if 'MPI-IO' in report.modules:\n",
    "    df = report.records['MPI-IO'].to_df()\n",
    "    mpiio_df = pandas.merge(df['counters'], df['fcounters'], left_on=['id','rank'], right_on=['id','rank'])\n",
    "    col_list += ['MPIIO_F_READ_TIME', 'MPIIO_F_WRITE_TIME', 'MPIIO_F_META_TIME']\n",
    "    slowest += ['MPIIO_F_SLOWEST_RANK_TIME']\n",
    "\n",
    "\n",
    "if 'STDIO' in report.modules:\n",
    "    df = report.records['STDIO'].to_df()\n",
    "    stdio_df = pandas.merge(df['counters'], df['fcounters'], left_on=['id','rank'], right_on=['id','rank'])\n",
    "    col_list += ['STDIO_F_READ_TIME', 'STDIO_F_WRITE_TIME', 'STDIO_F_META_TIME']\n",
    "    slowest += ['STDIO_F_SLOWEST_RANK_TIME']\n",
    "\n",
    "if all(x in report.modules for x in ['POSIX', 'MPI-IO', 'STDIO']):\n",
    "    total_df = pandas.merge(posix_df, mpiio_df, left_on=['id','rank'], right_on=['id','rank'], how='outer')\n",
    "    total_df = pandas.merge(total_df, stdio_df, left_on=['id','rank'], right_on=['id','rank'], how='outer')\n",
    "elif all(x in report.modules for x in ['POSIX', 'MPI-IO']):\n",
    "    total_df = pandas.merge(posix_df, mpiio_df, left_on=['id','rank'], right_on=['id','rank'], how='outer')\n",
    "elif all(x in report.modules for x in ['POSIX', 'STDIO']):\n",
    "    total_df = pandas.merge(posix_df, stdio_df, left_on=['id','rank'], right_on=['id','rank'], how='outer')\n",
    "else:\n",
    "    total_df = posix_df\n",
    "\n",
    "aseries = total_df[col_list].sum(axis=0).divide(runtime*nprocs)\n",
    "print(aseries)\n",
    "aseries.plot.bar(title='Average Rank I/O Ratio',ylabel='Ratio')\n"
   ]
  },
  {
   "cell_type": "markdown",
   "metadata": {},
   "source": [
    "### Slowest Rank I/O\n",
    "Looking at average time per rank can be deceiving if your I/O is imbalanced.\n",
    "- I/O is concentrated on a few ranks\n",
    "- I/O storage problem effected only part of system"
   ]
  },
  {
   "cell_type": "code",
   "execution_count": 7,
   "metadata": {},
   "outputs": [
    {
     "name": "stdout",
     "output_type": "stream",
     "text": [
      "      POSIX_F_SLOWEST_RANK_TIME  STDIO_F_SLOWEST_RANK_TIME\n",
      "rank                                                      \n",
      "-1                          0.0                   0.000258\n",
      "POSIX_F_READ_TIME     0.000000\n",
      "POSIX_F_WRITE_TIME    0.998643\n",
      "POSIX_F_META_TIME     0.000762\n",
      "STDIO_F_READ_TIME     0.000000\n",
      "STDIO_F_WRITE_TIME    0.000000\n",
      "STDIO_F_META_TIME     0.000000\n",
      "dtype: float64\n",
      "rank =  1507\n"
     ]
    },
    {
     "data": {
      "image/png": "[encoded data removed]",
      "text/plain": [
       "<Figure size 432x288 with 1 Axes>"
      ]
     },
     "metadata": {
      "needs_background": "light"
     },
     "output_type": "display_data"
    }
   ],
   "source": [
    "gtotal_df = total_df.groupby('rank')\n",
    "shared_series = gtotal_df[slowest].sum().divide(runtime).head(n=1)\n",
    "nonshared_series = gtotal_df[col_list].sum().divide(runtime).drop(-1)\n",
    "\n",
    "if shared_series.shape[0] > 0:\n",
    "    print(shared_series)\n",
    "    #print(shared_series.max().max())\n",
    "    pass\n",
    "\n",
    "if nonshared_series.shape[0] > 0:\n",
    "    #print(nonshared_series)\n",
    "    print(nonshared_series.max())\n",
    "    #print(nonshared_series.idxmax())\n",
    "    #print(nonshared_series.shape)\n",
    "    key = nonshared_series.max().idxmax()\n",
    "    idx = nonshared_series.idxmax().get(key)\n",
    "    print(\"rank = \", idx)\n",
    "\n",
    "title='Worst Rank I/O Ratio'\n",
    "ylabel='Ratio'\n",
    "if shared_series.shape[0] > 0 and nonshared_series.shape[0] > 0:\n",
    "    worst = nonshared_series + shared_series.max().max()\n",
    "    worst.loc[idx].plot.bar(title=title,ylabel=ylabel)\n",
    "elif shared_series.shape[0] > 0:\n",
    "    worst = shared_series\n",
    "    worst.plot.bar(title=title,ylabel=ylabel)\n",
    "else:\n",
    "    worst = nonshared_series\n",
    "    worst.loc[idx].plot.bar(title=title,ylabel=ylabel)\n",
    "\n",
    "#print(worst)"
   ]
  },
  {
   "cell_type": "markdown",
   "metadata": {},
   "source": [
    "## Which Filesystem are your Using?\n",
    "- most HPC systems have a dedicated high speed storage system, make sure you're using it.\n",
    "- It's likely not you're home directory"
   ]
  },
  {
   "cell_type": "code",
   "execution_count": 8,
   "metadata": {},
   "outputs": [
    {
     "name": "stdout",
     "output_type": "stream",
     "text": [
      "\t\t\tData in GiB\n",
      "\t\t\t-----------\n",
      "                 POSIX_BYTES_READ  POSIX_BYTES_WRITTEN  STDIO_BYTES_READ  \\\n",
      "mount                                                                      \n",
      "/global/project               0.0                  0.0          0.001541   \n",
      "/scratch1                     0.0                512.0          0.000000   \n",
      "Unknown                       0.0                  0.0          0.000000   \n",
      "\n",
      "                 STDIO_BYTES_WRITTEN  \n",
      "mount                                 \n",
      "/global/project             0.000000  \n",
      "/scratch1                   0.000000  \n",
      "Unknown                     0.000002  \n",
      "\n",
      "####################\n",
      "Possible Filesystems\n",
      "####################\n",
      "[('/.shared/base/default/etc/dat.conf', 'dvs'),\n",
      " ('/usr/lib64/libibverbs.so.1.0.0', 'dvs'),\n",
      " ('/usr/lib64/libibumad.so.3.0.2', 'dvs'),\n",
      " ('/usr/lib64/librdmacm.so.1.0.0', 'dvs'),\n",
      " ('/usr/lib64/libibgni.so.1.0.0', 'dvs'),\n",
      " ('/global/cscratch1', 'lustre'),\n",
      " ('/global/projectb', 'dvs'),\n",
      " ('/global/projecta', 'dvs'),\n",
      " ('/usr/sbin/ibstat', 'dvs'),\n",
      " ('/global/project', 'dvs'),\n",
      " ('/global/common', 'dvs'),\n",
      " ('/global/syscom', 'dvs'),\n",
      " ('/global/dna', 'dvs'),\n",
      " ('/opt/slurm', 'dvs'),\n",
      " ('/global/u1', 'dvs'),\n",
      " ('/global/u2', 'dvs'),\n",
      " ('/scratch1', 'lustre'),\n",
      " ('/scratch2', 'lustre'),\n",
      " ('/scratch3', 'lustre'),\n",
      " ('/etc', 'dvs'),\n",
      " ('/', 'rootfs'),\n",
      " ('/', 'dvs')]\n"
     ]
    }
   ],
   "source": [
    "total_df.loc[:,'mount'] = 'Unknown'\n",
    "total_df.loc[:,'mtype'] = 'Unknown'\n",
    "for index, row in total_df.iterrows():\n",
    "    for m in report.mounts:\n",
    "        if report.name_records[row['id']].startswith(m[0]):\n",
    "            total_df.at[index, 'mount'] = m[0]\n",
    "            total_df.at[index, 'mtype'] = m[1]\n",
    "            break\n",
    "gtotal_df = total_df.groupby('mount')\n",
    "posix_list = ['POSIX_BYTES_READ', 'POSIX_BYTES_WRITTEN']\n",
    "stdio_list = ['STDIO_BYTES_READ', 'STDIO_BYTES_WRITTEN']\n",
    "mpiio_list = ['MPIIO_BYTES_READ', 'MPIIO_BYTES_WRITTEN']\n",
    "col_list = ['mtype']\n",
    "if 'POSIX' in report.modules:\n",
    "    col_list += posix_list\n",
    "if 'STDIO' in report.modules:\n",
    "    col_list += stdio_list\n",
    "if 'MPI-IO' in report.modules:\n",
    "    col_list += mpiio_list\n",
    "print(\"\\t\\t\\tData in GiB\\n\\t\\t\\t-----------\")\n",
    "print(gtotal_df[col_list].sum().divide(1024*1024*1024))\n",
    "print()\n",
    "print('#'*20+\"\\nPossible Filesystems\\n\"+'#'*20)\n",
    "pprint.pprint(report.mounts)"
   ]
  },
  {
   "cell_type": "markdown",
   "metadata": {},
   "source": [
    "## File Count Sumamry\n",
    "- how many files are you using? Too many?\n",
    "- Consider most file systems support between 10k - 50k creates per second\n",
    "- How much data is in each file? Is that sufficient to offset the create/open cost?"
   ]
  },
  {
   "cell_type": "code",
   "execution_count": 9,
   "metadata": {},
   "outputs": [
    {
     "name": "stdout",
     "output_type": "stream",
     "text": [
      "########################################\n",
      "File Count Summary - Values in MiB\n",
      "########################################\n",
      "{'read-only': {'avg': 0.0007696151733398438,\n",
      "               'max': 0.0007696151733398438,\n",
      "               'number': 1},\n",
      " 'total': {'avg': 255.62554885979574,\n",
      "           'max': 255.99999904632568,\n",
      "           'number': 2051},\n",
      " 'write-only': {'avg': 255.875060976977,\n",
      "                'max': 255.99999904632568,\n",
      "                'number': 2049}}\n"
     ]
    }
   ],
   "source": [
    "table = {}\n",
    "unit = 1024*1024\n",
    "t = total_df.groupby('rank').sum()\n",
    "c = total_df.shape[0]\n",
    "if c > 0:\n",
    "    wkey = []\n",
    "    rkey = []\n",
    "    if 'POSIX_MAX_BYTE_WRITTEN' in t:\n",
    "        wkey.append('POSIX_MAX_BYTE_WRITTEN')\n",
    "        rkey.append('POSIX_MAX_BYTE_READ')\n",
    "    if 'STDIO_MAX_BYTE_WRITTEN' in t:\n",
    "        wkey.append('STDIO_MAX_BYTE_WRITTEN')\n",
    "        rkey.append('STDIO_MAX_BYTE_READ')\n",
    "    w = t[wkey].max().max() / unit\n",
    "    r = t[rkey].max().max() / unit\n",
    "    s = t[wkey+rkey].sum().sum() / unit\n",
    "    table['total'] = { 'number': c, 'avg': s/c, 'max': max(w,r) }\n",
    "\n",
    "def file_count(condition, key):\n",
    "    t = total_df.query(condition).groupby('rank').sum()\n",
    "    c = t.shape[0]\n",
    "    if c > 0:\n",
    "        wkey = []\n",
    "        rkey = []\n",
    "        if 'POSIX_MAX_BYTE_WRITTEN' in t:\n",
    "            wkey.append('POSIX_MAX_BYTE_WRITTEN')\n",
    "            rkey.append('POSIX_MAX_BYTE_READ')\n",
    "        if 'STDIO_MAX_BYTE_WRITTEN' in t:\n",
    "            wkey.append('STDIO_MAX_BYTE_WRITTEN')\n",
    "            rkey.append('STDIO_MAX_BYTE_READ')\n",
    "        w = t[wkey].max().max() / unit\n",
    "        r = t[rkey].max().max() / unit\n",
    "        s = t[wkey+rkey].sum().sum() / unit\n",
    "        table[key] = { 'number': c, 'avg': s/c, 'max': max(w,r) }\n",
    "\n",
    "condition = \"\"\n",
    "if 'POSIX' in report.modules:\n",
    "    condition += \"(POSIX_READS > 0 & POSIX_WRITES <= 0)\"\n",
    "if 'STDIO' in report.modules:\n",
    "    condition += '|' if condition else \"\"\n",
    "    condition += \"(STDIO_READS > 0 & STDIO_WRITES <= 0)\"\n",
    "file_count(condition, 'read-only')\n",
    "\n",
    "condition = \"\"\n",
    "if 'POSIX' in report.modules:\n",
    "    condition += \"(POSIX_WRITES > 0 & POSIX_READS <= 0)\"\n",
    "if 'STDIO' in report.modules:\n",
    "    condition += '|' if condition else \"\"\n",
    "    condition += \"(STDIO_WRITES > 0 & STDIO_READS <= 0)\"\n",
    "file_count(condition, 'write-only')\n",
    "\n",
    "condition = \"\"\n",
    "if 'POSIX' in report.modules:\n",
    "    condition += \"(POSIX_WRITES > 0 & POSIX_READS > 0)\"\n",
    "if 'STDIO' in report.modules:\n",
    "    condition += '|' if condition else \"\"\n",
    "    condition += \"(STDIO_WRITES > 0 & STDIO_READS > 0)\"\n",
    "file_count(condition, 'read-write')\n",
    "\n",
    "print('#'*40+\"\\nFile Count Summary - Values in MiB\\n\"+'#'*40)\n",
    "pprint.pprint(table, width=20)"
   ]
  },
  {
   "cell_type": "markdown",
   "metadata": {},
   "source": [
    "## I/O Operations\n",
    "Next we can look at total operations count.\n",
    "\n",
    "There isn't an absolute good or bad value for these counters. However, counts into the millions and billions\n",
    "may indicate the IOP load is likely higher than desired. Look at increasing the size of I/Os to reduce the number\n",
    "of operations.\n",
    "\n",
    "High number of seeks, stats, flushes can also indicate areas that are degrading I/O performance."
   ]
  },
  {
   "cell_type": "code",
   "execution_count": 10,
   "metadata": {},
   "outputs": [
    {
     "data": {
      "text/plain": [
       "<AxesSubplot:title={'center':'Total I/O Operations'}, ylabel='Count of Operations'>"
      ]
     },
     "execution_count": 10,
     "metadata": {},
     "output_type": "execute_result"
    },
    {
     "data": {
      "image/png": "[encoded data removed]",
      "text/plain": [
       "<Figure size 432x288 with 1 Axes>"
      ]
     },
     "metadata": {
      "needs_background": "light"
     },
     "output_type": "display_data"
    }
   ],
   "source": [
    "col_list = []\n",
    "posix_list = ['POSIX_OPENS', 'POSIX_WRITES', 'POSIX_READS', 'POSIX_STATS', 'POSIX_SEEKS', \n",
    "            'POSIX_MMAPS', 'POSIX_FSYNCS']\n",
    "mpiio_list = ['MPIIO_INDEP_OPENS', 'MPIIO_COLL_OPENS', 'MPIIO_INDEP_WRITES', 'MPIIO_COLL_WRITES',\n",
    "              'MPIIO_INDEP_READS', 'MPIIO_COLL_READS', 'MPIIO_SYNCS']\n",
    "stdio_list = ['STDIO_OPENS', 'STDIO_WRITES', 'STDIO_READS', 'STDIO_SEEKS', 'STDIO_FLUSHES']\n",
    "if 'POSIX' in report.modules:\n",
    "    col_list += posix_list\n",
    "if 'MPI-IO' in report.modules:\n",
    "    col_list += mpiio_list\n",
    "if 'STDIO' in report.modules:\n",
    "    col_list += stdio_list\n",
    "\n",
    "series = total_df[col_list].sum(axis=0)\n",
    "#print(series)\n",
    "series.plot.bar(title='Total I/O Operations', ylabel=\"Count of Operations\")"
   ]
  },
  {
   "cell_type": "markdown",
   "metadata": {},
   "source": [
    "## I/O Access\n",
    "- small i/o is usaually inieffcient unless read/write buffering done by FS\n",
    "- larger sizes are usuaslly better"
   ]
  },
  {
   "cell_type": "code",
   "execution_count": 11,
   "metadata": {},
   "outputs": [
    {
     "data": {
      "image/png": "[encoded data removed]",
      "text/plain": [
       "<Figure size 432x288 with 1 Axes>"
      ]
     },
     "metadata": {
      "needs_background": "light"
     },
     "output_type": "display_data"
    }
   ],
   "source": [
    "if 'POSIX' in report.modules:\n",
    "    col_list = ['POSIX_SIZE_READ_0_100',    'POSIX_SIZE_WRITE_0_100',\n",
    "                'POSIX_SIZE_READ_100_1K',   'POSIX_SIZE_WRITE_100_1K',\n",
    "                'POSIX_SIZE_READ_1K_10K',   'POSIX_SIZE_WRITE_1K_10K',\n",
    "                'POSIX_SIZE_READ_10K_100K', 'POSIX_SIZE_WRITE_10K_100K',\n",
    "                'POSIX_SIZE_READ_100K_1M',  'POSIX_SIZE_WRITE_100K_1M',\n",
    "                'POSIX_SIZE_READ_1M_4M',    'POSIX_SIZE_WRITE_1M_4M',\n",
    "                'POSIX_SIZE_READ_4M_10M',   'POSIX_SIZE_WRITE_4M_10M',\n",
    "                'POSIX_SIZE_READ_10M_100M', 'POSIX_SIZE_WRITE_10M_100M',\n",
    "                'POSIX_SIZE_READ_100M_1G',  'POSIX_SIZE_WRITE_100M_1G',\n",
    "                'POSIX_SIZE_READ_1G_PLUS',  'POSIX_SIZE_WRITE_1G_PLUS']\n",
    "    series = total_df[col_list].sum(axis=0)\n",
    "    series.plot.bar(title=\"POSIX Access Sizes\", ylabel=\"Count (Total, All Procs)\",color=['m','g'])"
   ]
  },
  {
   "cell_type": "code",
   "execution_count": 12,
   "metadata": {},
   "outputs": [],
   "source": [
    "if 'MPI-IO' in report.modules:\n",
    "    col_list = ['MPIIO_SIZE_READ_AGG_0_100',    'MPIIO_SIZE_WRITE_AGG_0_100',\n",
    "                'MPIIO_SIZE_READ_AGG_100_1K',   'MPIIO_SIZE_WRITE_AGG_100_1K',\n",
    "                'MPIIO_SIZE_READ_AGG_1K_10K',   'MPIIO_SIZE_WRITE_AGG_1K_10K',\n",
    "                'MPIIO_SIZE_READ_AGG_10K_100K', 'MPIIO_SIZE_WRITE_AGG_10K_100K',\n",
    "                'MPIIO_SIZE_READ_AGG_100K_1M',  'MPIIO_SIZE_WRITE_AGG_100K_1M',\n",
    "                'MPIIO_SIZE_READ_AGG_1M_4M',    'MPIIO_SIZE_WRITE_AGG_1M_4M',\n",
    "                'MPIIO_SIZE_READ_AGG_4M_10M',   'MPIIO_SIZE_WRITE_AGG_4M_10M',\n",
    "                'MPIIO_SIZE_READ_AGG_10M_100M', 'MPIIO_SIZE_WRITE_AGG_10M_100M',\n",
    "                'MPIIO_SIZE_READ_AGG_100M_1G',  'MPIIO_SIZE_WRITE_AGG_100M_1G',\n",
    "                'MPIIO_SIZE_READ_AGG_1G_PLUS',  'MPIIO_SIZE_WRITE_AGG_1G_PLUS']\n",
    "    series = total_df[col_list].sum(axis=0)\n",
    "    series.plot.bar(title=\"MPI-IO Access Sizes\", ylabel=\"Count (Total, All Procs)\",color=['m','g'])"
   ]
  },
  {
   "cell_type": "code",
   "execution_count": null,
   "metadata": {},
   "outputs": [],
   "source": []
  }
 ],
 "metadata": {
  "kernelspec": {
   "display_name": "Python 3",
   "language": "python",
   "name": "python3"
  },
  "language_info": {
   "codemirror_mode": {
    "name": "ipython",
    "version": 3
   },
   "file_extension": ".py",
   "mimetype": "text/x-python",
   "name": "python",
   "nbconvert_exporter": "python",
   "pygments_lexer": "ipython3",
   "version": "3.8.5"
  }
 },
 "nbformat": 4,
 "nbformat_minor": 4
}
