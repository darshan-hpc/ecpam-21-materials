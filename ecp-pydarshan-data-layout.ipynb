{
 "cells": [
  {
   "cell_type": "markdown",
   "metadata": {},
   "source": [
    "# PyDarshan Data Layout and Understanding\n",
    "This notebook walks through the pydarshan data structure to\n",
    "help understand how to access data in order to build analysis.\n",
    "\n",
    "### Minimum Python Version\n",
    "- 3.6 is the minimum version"
   ]
  },
  {
   "cell_type": "code",
   "execution_count": 1,
   "metadata": {},
   "outputs": [
    {
     "name": "stdout",
     "output_type": "stream",
     "text": [
      "3.8.5\n"
     ]
    }
   ],
   "source": [
    "import platform\n",
    "print(platform.python_version())"
   ]
  },
  {
   "cell_type": "markdown",
   "metadata": {},
   "source": [
    "#### Import darshan\n",
    "- If this fails with a traceback, it is most likely due to not finding the corresponding libdarshan-util.so library\n",
    "- export LD_LIBRARY_PATH=<path/to/darshan/lib> before running the notebook"
   ]
  },
  {
   "cell_type": "code",
   "execution_count": 2,
   "metadata": {
    "slideshow": {
     "slide_type": "-"
    }
   },
   "outputs": [],
   "source": [
    "import darshan"
   ]
  },
  {
   "cell_type": "markdown",
   "metadata": {},
   "source": [
    "### Example log\n",
    "- we load an example log to walk through the data structures"
   ]
  },
  {
   "cell_type": "code",
   "execution_count": 3,
   "metadata": {},
   "outputs": [
    {
     "name": "stderr",
     "output_type": "stream",
     "text": [
      " Skipping. Log does not contain data for mod: LUSTRE\n"
     ]
    }
   ],
   "source": [
    "logfile=\"examples/shane_macsio_id29959_5-22-32552-7035573431850780836_1590156158.darshan\"\n",
    "report = darshan.DarshanReport(logfile, read_all=True)"
   ]
  },
  {
   "cell_type": "markdown",
   "metadata": {},
   "source": [
    "### DarshanReport object\n",
    "- This object contains many methods for loading and processing logs\n",
    "- default is to load all known log entries into the default data set\n",
    "  - can instead disable loading and load ony logs from modules you are interested in"
   ]
  },
  {
   "cell_type": "code",
   "execution_count": 4,
   "metadata": {},
   "outputs": [
    {
     "data": {
      "text/plain": [
       "['__add__',\n",
       " '__class__',\n",
       " '__deepcopy__',\n",
       " '__delattr__',\n",
       " '__dict__',\n",
       " '__dir__',\n",
       " '__doc__',\n",
       " '__eq__',\n",
       " '__format__',\n",
       " '__ge__',\n",
       " '__getattribute__',\n",
       " '__gt__',\n",
       " '__hash__',\n",
       " '__init__',\n",
       " '__init_subclass__',\n",
       " '__le__',\n",
       " '__lt__',\n",
       " '__module__',\n",
       " '__ne__',\n",
       " '__new__',\n",
       " '__reduce__',\n",
       " '__reduce_ex__',\n",
       " '__repr__',\n",
       " '__setattr__',\n",
       " '__sizeof__',\n",
       " '__str__',\n",
       " '__subclasshook__',\n",
       " '__weakref__',\n",
       " '_counters',\n",
       " '_metadata',\n",
       " '_modules',\n",
       " '_mounts',\n",
       " 'automatic_summary',\n",
       " 'converted_records',\n",
       " 'counters',\n",
       " 'data',\n",
       " 'data_revision',\n",
       " 'dtype',\n",
       " 'end_time',\n",
       " 'filename',\n",
       " 'info',\n",
       " 'log',\n",
       " 'lookup_name_records',\n",
       " 'metadata',\n",
       " 'mod_read_all_apmpi_records',\n",
       " 'mod_read_all_apxc_records',\n",
       " 'mod_read_all_dxt_records',\n",
       " 'mod_read_all_lustre_records',\n",
       " 'mod_read_all_records',\n",
       " 'mod_records',\n",
       " 'modules',\n",
       " 'mounts',\n",
       " 'name_records',\n",
       " 'open',\n",
       " 'provenance_enabled',\n",
       " 'provenance_graph',\n",
       " 'provenance_reports',\n",
       " 'read_all',\n",
       " 'read_all_dxt_records',\n",
       " 'read_all_generic_records',\n",
       " 'read_metadata',\n",
       " 'rebase_timestamps',\n",
       " 'records',\n",
       " 'start_time',\n",
       " 'summary',\n",
       " 'summary_revision',\n",
       " 'timebase',\n",
       " 'to_dict',\n",
       " 'to_json',\n",
       " 'update_name_records']"
      ]
     },
     "execution_count": 4,
     "metadata": {},
     "output_type": "execute_result"
    }
   ],
   "source": [
    "dir(report)"
   ]
  },
  {
   "cell_type": "markdown",
   "metadata": {},
   "source": [
    "### Log metadata summary\n",
    "- The info() method prints an overview of the log to standard out\n",
    "- useful for understanding what is in the log\n",
    "- Loaded Records shows which modules are present and how many records are in each\n",
    "- Name records indicates how many different \"files\" are in the log\n",
    "  - some name records are special like <STDOUT> that don't refer to an actual file"
   ]
  },
  {
   "cell_type": "code",
   "execution_count": 5,
   "metadata": {},
   "outputs": [
    {
     "name": "stdout",
     "output_type": "stream",
     "text": [
      "Filename:       examples/shane_macsio_id29959_5-22-32552-7035573431850780836_1590156158.darshan\n",
      "Times:          2020-05-22 14:02:32 to 2020-05-22 14:02:35 (Duration 0:00:03)\n",
      "Executeable:    /home/shane/software/spack/opt/spack/linux-ubuntu19.10-skylake/gcc-9.2.1/macsio-1.1-uirjqckqkkiv7ns5sr5siyraklgp5pma/macsio --interface hdf5 --parallel_file_mode SIF 1 --part_dim 3 --part_size 200K --num_dumps 1 --vars_per_part 1 --avg_num_parts 4.5\n",
      "Processes:      16\n",
      "JobID:          29959\n",
      "UID:            1000\n",
      "Modules in Log: ['POSIX', 'MPI-IO', 'H5F', 'H5D']\n",
      "Loaded Records: {'POSIX': 3, 'MPI-IO': 1, 'H5F': 1, 'H5D': 1}\n",
      "Name Records:   4\n",
      "Darshan/Hints:  {'lib_ver': '3.2.1', 'h': 'romio_no_indep_rw=true;cb_nodes=4'}\n",
      "DarshanReport:  id(139645897281440) (tmp)\n"
     ]
    }
   ],
   "source": [
    "report.info()"
   ]
  },
  {
   "cell_type": "code",
   "execution_count": 6,
   "metadata": {},
   "outputs": [],
   "source": [
    "import pprint"
   ]
  },
  {
   "cell_type": "markdown",
   "metadata": {},
   "source": [
    "### Name Records\n",
    "- this is a list of all the files the darshan log knows about\n",
    "- Some \"files\" may not be actual files and are place holders for their records, such as <STDOUT> or an HDF5 dataset\n",
    "- The key is a hash which can be used to correlate the file in the different modules\n",
    "  - for example, using MPI-IO to write a file, and MPI-IO then uses POSIX will have records\n",
    "    in both the POSIX and MPI-IO modules."
   ]
  },
  {
   "cell_type": "code",
   "execution_count": 7,
   "metadata": {},
   "outputs": [
    {
     "name": "stdout",
     "output_type": "stream",
     "text": [
      "{326674217917622578: '/tmp/test/macsio-timings.log',\n",
      " 8409215679985794245: '/tmp/test/macsio_hdf5_000.h5',\n",
      " 9271460256448564466: '/tmp/test/macsio_hdf5_000.h5:/constant',\n",
      " 12580831639222665179: '/tmp/test/macsio-log.log'}\n"
     ]
    }
   ],
   "source": [
    "pprint.pprint(report.name_records)"
   ]
  },
  {
   "cell_type": "markdown",
   "metadata": {},
   "source": [
    "### Mount File systems\n",
    "- the Mounts variable is a list of mount point names and file system types\n",
    "- the list is sorted from longest path to shortest path\n",
    "  - in order to determine which file system a file is on, match the path of the name record\n",
    "    with the longest matching mount\n",
    "  - note this can be incorrect if symlinking a file in one files system to another"
   ]
  },
  {
   "cell_type": "code",
   "execution_count": 8,
   "metadata": {},
   "outputs": [
    {
     "name": "stdout",
     "output_type": "stream",
     "text": [
      "[('/run/snapd/ns/gnome-calculator.mnt', 'nsfs'),\n",
      " ('/snap/gnome-system-monitor/135', 'squashfs'),\n",
      " ('/snap/gnome-system-monitor/145', 'squashfs'),\n",
      " ('/snap/gtk-common-themes/1506', 'squashfs'),\n",
      " ('/snap/gtk-common-themes/1502', 'squashfs'),\n",
      " ('/snap/gnome-characters/495', 'squashfs'),\n",
      " ('/snap/gnome-calculator/730', 'squashfs'),\n",
      " ('/run/snapd/ns/chromium.mnt', 'nsfs'),\n",
      " ('/snap/gnome-calculator/748', 'squashfs'),\n",
      " ('/snap/gnome-characters/539', 'squashfs'),\n",
      " ('/sys/firmware/efi/efivars', 'efivarfs'),\n",
      " ('/snap/gnome-3-28-1804/110', 'squashfs'),\n",
      " ('/snap/gnome-3-28-1804/116', 'squashfs'),\n",
      " ('/proc/sys/fs/binfmt_misc', 'autofs'),\n",
      " ('/snap/gnome-3-26-1604/97', 'squashfs'),\n",
      " ('/snap/gnome-3-26-1604/98', 'squashfs'),\n",
      " ('/snap/gnome-3-34-1804/27', 'squashfs'),\n",
      " ('/snap/gnome-3-34-1804/33', 'squashfs'),\n",
      " ('/sys/fs/cgroup/unified', 'cgroup2'),\n",
      " ('/snap/gnome-logs/100', 'squashfs'),\n",
      " ('/snap/gnome-logs/93', 'squashfs'),\n",
      " ('/run/user/1000/gvfs', 'fuse.gvfsd-fuse'),\n",
      " ('/snap/chromium/1135', 'squashfs'),\n",
      " ('/snap/chromium/1143', 'squashfs'),\n",
      " ('/sys/kernel/config', 'configfs'),\n",
      " ('/run/user/1000/doc', 'fuse'),\n",
      " ('/snap/core18/1705', 'squashfs'),\n",
      " ('/snap/core18/1754', 'squashfs'),\n",
      " ('/snap/core/8935', 'squashfs'),\n",
      " ('/snap/core/9066', 'squashfs'),\n",
      " ('/sys/fs/pstore', 'pstore'),\n",
      " ('/snap/slack/23', 'squashfs'),\n",
      " ('/snap/slack/24', 'squashfs'),\n",
      " ('/sys/fs/bpf', 'bpf'),\n",
      " ('/dev/mqueue', 'mqueue'),\n",
      " ('/boot/efi', 'vfat'),\n",
      " ('/home', 'ext4'),\n",
      " ('/dev', 'devtmpfs'),\n",
      " ('/', 'ext4')]\n"
     ]
    }
   ],
   "source": [
    "pprint.pprint(report.mounts)"
   ]
  },
  {
   "cell_type": "markdown",
   "metadata": {},
   "source": [
    "### Records\n",
    "- this is where the data of the log is held, this is where you start for analysis\n",
    "- records is a dictionary with each key being a module that contains a DarshanRecordCollection object"
   ]
  },
  {
   "cell_type": "code",
   "execution_count": 9,
   "metadata": {},
   "outputs": [
    {
     "name": "stdout",
     "output_type": "stream",
     "text": [
      "{'H5D': <darshan.report.DarshanRecordCollection object at 0x7f01da918b20>,\n",
      " 'H5F': <darshan.report.DarshanRecordCollection object at 0x7f01da902c10>,\n",
      " 'MPI-IO': <darshan.report.DarshanRecordCollection object at 0x7f01da902e80>,\n",
      " 'POSIX': <darshan.report.DarshanRecordCollection object at 0x7f01da902b20>}\n"
     ]
    }
   ],
   "source": [
    "pprint.pprint(report.records)"
   ]
  },
  {
   "cell_type": "markdown",
   "metadata": {},
   "source": [
    "### DarshanRecordCollection\n",
    "- this object is derived from collections.abc.MutableSequence\n",
    "- you can access each records like a sequence, [0], [1:3], etc..\n",
    "- it also has 3 functions that return the data in different formats (depending on your preference)\n",
    "- to_df() -> provides counters as pandas data frames\n",
    "- to_dict() -> provides counters as python dictionaries\n",
    "- to_numpy() -> provides counters as numpy arrays (this is the default representation)\n",
    "  - these 3 methods will be deepcopies of data if transforming from the loaded representation"
   ]
  },
  {
   "cell_type": "code",
   "execution_count": 10,
   "metadata": {},
   "outputs": [
    {
     "data": {
      "text/plain": [
       "['__abstractmethods__',\n",
       " '__class__',\n",
       " '__contains__',\n",
       " '__delattr__',\n",
       " '__delitem__',\n",
       " '__dict__',\n",
       " '__dir__',\n",
       " '__doc__',\n",
       " '__eq__',\n",
       " '__format__',\n",
       " '__ge__',\n",
       " '__getattribute__',\n",
       " '__getitem__',\n",
       " '__gt__',\n",
       " '__hash__',\n",
       " '__iadd__',\n",
       " '__init__',\n",
       " '__init_subclass__',\n",
       " '__iter__',\n",
       " '__le__',\n",
       " '__len__',\n",
       " '__lt__',\n",
       " '__module__',\n",
       " '__ne__',\n",
       " '__new__',\n",
       " '__reduce__',\n",
       " '__reduce_ex__',\n",
       " '__repr__',\n",
       " '__reversed__',\n",
       " '__setattr__',\n",
       " '__setitem__',\n",
       " '__sizeof__',\n",
       " '__slots__',\n",
       " '__str__',\n",
       " '__subclasshook__',\n",
       " '__weakref__',\n",
       " '_abc_impl',\n",
       " '_records',\n",
       " '_type',\n",
       " 'append',\n",
       " 'clear',\n",
       " 'count',\n",
       " 'end_time',\n",
       " 'extend',\n",
       " 'id',\n",
       " 'index',\n",
       " 'info',\n",
       " 'insert',\n",
       " 'mod',\n",
       " 'pop',\n",
       " 'rank',\n",
       " 'remove',\n",
       " 'report',\n",
       " 'reverse',\n",
       " 'start_time',\n",
       " 'timebase',\n",
       " 'to_df',\n",
       " 'to_dict',\n",
       " 'to_json',\n",
       " 'to_list',\n",
       " 'to_numpy']"
      ]
     },
     "execution_count": 10,
     "metadata": {},
     "output_type": "execute_result"
    }
   ],
   "source": [
    "dir(report.records['POSIX'])"
   ]
  },
  {
   "cell_type": "markdown",
   "metadata": {},
   "source": [
    "### Accessing DarshanRecordCollection objects\n",
    "- You can check the len() for the number of records in the object\n",
    "- Accessing the object like a sequence will return a dictionary-like reference that allows access to four\n",
    "  pieces of data\n",
    "  - id -> the hash which corresponds to the hash in the name_records\n",
    "  - rank -> the rank the data was collected on or -1 if the file was accessed by all ranks and data was reduced to \n",
    "    single record\n",
    "  - counters -> all integer counters\n",
    "  - fcounters -> all floating point counters\n",
    "- the representation of data within _counters_ and _fcounters_ defaults to numpy arrays but depends\n",
    "  on what _dtype_ was set when the records were loaded"
   ]
  },
  {
   "cell_type": "code",
   "execution_count": 11,
   "metadata": {},
   "outputs": [
    {
     "name": "stdout",
     "output_type": "stream",
     "text": [
      "num records =  3\n",
      "<class 'darshan.report.DarshanRecordCollection'>\n",
      "{'id': 326674217917622578, 'rank': -1, 'counters': array([   17,     0,     0,     0,    51,     0,     0,    -1,     0,\n",
      "           0,     0,     0,     0,     0,     0, 12460,     0,  6229,\n",
      "           0,    18,     0,    34,     0,     0,     8,    50,  4096,\n",
      "           0,   890,     0,     0,     0,     0,     0,     0,     0,\n",
      "           0,     0,     0,     0,    51,     0,     0,     0,     0,\n",
      "           0,     0,     0,     0,     0,     0,     0,     0,     0,\n",
      "           0,     0,     0,   178,   356,   890,     0,    35,    15,\n",
      "           1,     0,     2,   356,     0,  7120]), 'fcounters': array([3.14636612e+00, 0.00000000e+00, 3.14642453e+00, 3.14647627e+00,\n",
      "       3.22398162e+00, 0.00000000e+00, 3.22401357e+00, 3.22401595e+00,\n",
      "       0.00000000e+00, 1.58786774e-04, 2.01463699e-04, 0.00000000e+00,\n",
      "       1.16825104e-05, 9.05990601e-06, 1.33752823e-04, 8.42000025e-10,\n",
      "       2.68076344e+06])}\n"
     ]
    }
   ],
   "source": [
    "print(\"num records = \", len(report.records['POSIX']))\n",
    "print(type(report.records['POSIX'][0]))\n",
    "pprint.pprint(report.records['POSIX'][0])"
   ]
  },
  {
   "cell_type": "markdown",
   "metadata": {},
   "source": [
    "### Numpy Format\n",
    "- the default format\n",
    "- use to_numpy() to get a deep copy of the data in this format\n",
    "- returns a list of dictionaries, one dictionary for each record\n",
    "- dictionary is the same format as the DarshanRecordCollection above\n",
    "- _counters_ and _fcounters_ contain the numpy array\n",
    "- this is format assumed by some of the experimental aggregators that are part of the library"
   ]
  },
  {
   "cell_type": "code",
   "execution_count": 12,
   "metadata": {},
   "outputs": [
    {
     "name": "stdout",
     "output_type": "stream",
     "text": [
      "[{'counters': array([   17,     0,     0,     0,    51,     0,     0,    -1,     0,\n",
      "           0,     0,     0,     0,     0,     0, 12460,     0,  6229,\n",
      "           0,    18,     0,    34,     0,     0,     8,    50,  4096,\n",
      "           0,   890,     0,     0,     0,     0,     0,     0,     0,\n",
      "           0,     0,     0,     0,    51,     0,     0,     0,     0,\n",
      "           0,     0,     0,     0,     0,     0,     0,     0,     0,\n",
      "           0,     0,     0,   178,   356,   890,     0,    35,    15,\n",
      "           1,     0,     2,   356,     0,  7120]),\n",
      "  'fcounters': array([3.14636612e+00, 0.00000000e+00, 3.14642453e+00, 3.14647627e+00,\n",
      "       3.22398162e+00, 0.00000000e+00, 3.22401357e+00, 3.22401595e+00,\n",
      "       0.00000000e+00, 1.58786774e-04, 2.01463699e-04, 0.00000000e+00,\n",
      "       1.16825104e-05, 9.05990601e-06, 1.33752823e-04, 8.42000025e-10,\n",
      "       2.68076344e+06]),\n",
      "  'id': 326674217917622578,\n",
      "  'rank': -1},\n",
      " {'counters': array([      17,        0,        0,        6,     7699,        4,\n",
      "             32,       -1,        0,        0,        0,        0,\n",
      "              0,        0, 39816960, 54579416, 13286719, 13286911,\n",
      "              2,        0,        4,     7691,        7,        0,\n",
      "              8,     7581,     4096, 13266432,      192,        3,\n",
      "              0,        0,        0,        0,        0,        0,\n",
      "              3,        0,        0,        3,     7692,        0,\n",
      "              0,        0,        0,        0,        4,        0,\n",
      "              0,      384,    89664,      192,        0,     7440,\n",
      "            240,        1,        0,      192, 13266432, 13284480,\n",
      "             96,     7688,        3,        2,        2,        5,\n",
      "            328,        0, 92918976]),\n",
      "  'fcounters': array([6.40803337e-01, 1.18115568e+00, 1.21021557e+00, 6.61240816e-01,\n",
      "       6.91993713e-01, 2.50297284e+00, 2.82799554e+00, 2.93999934e+00,\n",
      "       9.03820992e-03, 1.22670650e-01, 3.20001125e-01, 3.71050835e-03,\n",
      "       1.92670822e-02, 1.55155659e-02, 5.74607849e-02, 1.45525328e-04,\n",
      "       5.04830721e+14]),\n",
      "  'id': 8409215679985794245,\n",
      "  'rank': -1},\n",
      " {'counters': array([    17,      0,      0,      0,     66,      0,      0,     -1,\n",
      "            0,      0,      0,      0,      0,      0,      0, 145664,\n",
      "            0, 139263,      0,     49,      0,     65,      0,      0,\n",
      "            8,     50,   4096,      0,    128,      0,      0,      0,\n",
      "            0,      0,      0,      0,      0,      0,      0,      0,\n",
      "           50,     15,      1,      0,      0,      0,      0,      0,\n",
      "            0,      0,      0,      0,      0,      0,      0,      0,\n",
      "            0,    128,   8192,  16384,      0,     50,     15,      1,\n",
      "            0,      3,    384,      0, 139904]),\n",
      "  'fcounters': array([9.61263180e-02, 0.00000000e+00, 9.61976051e-02, 9.63113308e-02,\n",
      "       1.79987431e-01, 0.00000000e+00, 2.97605848e+00, 3.24232030e+00,\n",
      "       0.00000000e+00, 3.82423401e-04, 2.21729279e-04, 0.00000000e+00,\n",
      "       2.05039978e-05, 1.31130219e-05, 2.41756439e-04, 2.80584711e-09,\n",
      "       1.14057600e+09]),\n",
      "  'id': 12580831639222665179,\n",
      "  'rank': -1}]\n"
     ]
    }
   ],
   "source": [
    "np = report.records['POSIX'].to_numpy()\n",
    "pprint.pprint(np)"
   ]
  },
  {
   "cell_type": "markdown",
   "metadata": {},
   "source": [
    "To access a specific counters, you can generate a mapping of counters names to indexs"
   ]
  },
  {
   "cell_type": "code",
   "execution_count": 13,
   "metadata": {},
   "outputs": [
    {
     "name": "stdout",
     "output_type": "stream",
     "text": [
      "0\n",
      "0.0\n"
     ]
    }
   ],
   "source": [
    "counter2index = dict(zip(report.counters['POSIX']['counters'],\n",
    "                         range(0, len(report.counters['POSIX']['counters']))))\n",
    "fcounter2index = dict(zip(report.counters['POSIX']['fcounters'],\n",
    "                         range(0, len(report.counters['POSIX']['fcounters']))))\n",
    "i = counter2index['POSIX_READS']\n",
    "print(np[0]['counters'][i])\n",
    "i = fcounter2index['POSIX_F_READ_TIME']\n",
    "print(np[0]['fcounters'][i])"
   ]
  },
  {
   "cell_type": "markdown",
   "metadata": {},
   "source": [
    "### Dictionary Format\n",
    "- use to_dict() to get a deep copy of the data in this format\n",
    "- returns a list of dictionaries, one dictionary for each record\n",
    "- dictionary is the same format as the DarshanRecordCollection above\n",
    "- _counters_ and _fcounters_ contain the dictionary\n",
    "  - counters names are the keys and the value is the counter value"
   ]
  },
  {
   "cell_type": "code",
   "execution_count": 14,
   "metadata": {},
   "outputs": [
    {
     "name": "stdout",
     "output_type": "stream",
     "text": [
      "[{'counters': {'POSIX_ACCESS1_ACCESS': 178,\n",
      "               'POSIX_ACCESS1_COUNT': 35,\n",
      "               'POSIX_ACCESS2_ACCESS': 356,\n",
      "               'POSIX_ACCESS2_COUNT': 15,\n",
      "               'POSIX_ACCESS3_ACCESS': 890,\n",
      "               'POSIX_ACCESS3_COUNT': 1,\n",
      "               'POSIX_ACCESS4_ACCESS': 0,\n",
      "               'POSIX_ACCESS4_COUNT': 0,\n",
      "               'POSIX_BYTES_READ': 0,\n",
      "               'POSIX_BYTES_WRITTEN': 12460,\n",
      "               'POSIX_CONSEC_READS': 0,\n",
      "               'POSIX_CONSEC_WRITES': 18,\n",
      "               'POSIX_DUPS': 0,\n",
      "               'POSIX_FASTEST_RANK': 2,\n",
      "               'POSIX_FASTEST_RANK_BYTES': 356,\n",
      "               'POSIX_FDSYNCS': 0,\n",
      "               'POSIX_FILENOS': 0,\n",
      "               'POSIX_FILE_ALIGNMENT': 4096,\n",
      "               'POSIX_FILE_NOT_ALIGNED': 50,\n",
      "               'POSIX_FSYNCS': 0,\n",
      "               'POSIX_MAX_BYTE_READ': 0,\n",
      "               'POSIX_MAX_BYTE_WRITTEN': 6229,\n",
      "               'POSIX_MAX_READ_TIME_SIZE': 0,\n",
      "               'POSIX_MAX_WRITE_TIME_SIZE': 890,\n",
      "               'POSIX_MEM_ALIGNMENT': 8,\n",
      "               'POSIX_MEM_NOT_ALIGNED': 0,\n",
      "               'POSIX_MMAPS': -1,\n",
      "               'POSIX_MODE': 0,\n",
      "               'POSIX_OPENS': 17,\n",
      "               'POSIX_READS': 0,\n",
      "               'POSIX_RENAMED_FROM': 0,\n",
      "               'POSIX_RENAME_SOURCES': 0,\n",
      "               'POSIX_RENAME_TARGETS': 0,\n",
      "               'POSIX_RW_SWITCHES': 0,\n",
      "               'POSIX_SEEKS': 0,\n",
      "               'POSIX_SEQ_READS': 0,\n",
      "               'POSIX_SEQ_WRITES': 34,\n",
      "               'POSIX_SIZE_READ_0_100': 0,\n",
      "               'POSIX_SIZE_READ_100K_1M': 0,\n",
      "               'POSIX_SIZE_READ_100M_1G': 0,\n",
      "               'POSIX_SIZE_READ_100_1K': 0,\n",
      "               'POSIX_SIZE_READ_10K_100K': 0,\n",
      "               'POSIX_SIZE_READ_10M_100M': 0,\n",
      "               'POSIX_SIZE_READ_1G_PLUS': 0,\n",
      "               'POSIX_SIZE_READ_1K_10K': 0,\n",
      "               'POSIX_SIZE_READ_1M_4M': 0,\n",
      "               'POSIX_SIZE_READ_4M_10M': 0,\n",
      "               'POSIX_SIZE_WRITE_0_100': 0,\n",
      "               'POSIX_SIZE_WRITE_100K_1M': 0,\n",
      "               'POSIX_SIZE_WRITE_100M_1G': 0,\n",
      "               'POSIX_SIZE_WRITE_100_1K': 51,\n",
      "               'POSIX_SIZE_WRITE_10K_100K': 0,\n",
      "               'POSIX_SIZE_WRITE_10M_100M': 0,\n",
      "               'POSIX_SIZE_WRITE_1G_PLUS': 0,\n",
      "               'POSIX_SIZE_WRITE_1K_10K': 0,\n",
      "               'POSIX_SIZE_WRITE_1M_4M': 0,\n",
      "               'POSIX_SIZE_WRITE_4M_10M': 0,\n",
      "               'POSIX_SLOWEST_RANK': 0,\n",
      "               'POSIX_SLOWEST_RANK_BYTES': 7120,\n",
      "               'POSIX_STATS': 0,\n",
      "               'POSIX_STRIDE1_COUNT': 0,\n",
      "               'POSIX_STRIDE1_STRIDE': 0,\n",
      "               'POSIX_STRIDE2_COUNT': 0,\n",
      "               'POSIX_STRIDE2_STRIDE': 0,\n",
      "               'POSIX_STRIDE3_COUNT': 0,\n",
      "               'POSIX_STRIDE3_STRIDE': 0,\n",
      "               'POSIX_STRIDE4_COUNT': 0,\n",
      "               'POSIX_STRIDE4_STRIDE': 0,\n",
      "               'POSIX_WRITES': 51},\n",
      "  'fcounters': {'POSIX_F_CLOSE_END_TIMESTAMP': 3.224015951156616,\n",
      "                'POSIX_F_CLOSE_START_TIMESTAMP': 3.1464762687683105,\n",
      "                'POSIX_F_FASTEST_RANK_TIME': 9.059906005859375e-06,\n",
      "                'POSIX_F_MAX_READ_TIME': 0.0,\n",
      "                'POSIX_F_MAX_WRITE_TIME': 1.1682510375976562e-05,\n",
      "                'POSIX_F_META_TIME': 0.0002014636993408203,\n",
      "                'POSIX_F_OPEN_END_TIMESTAMP': 3.2239816188812256,\n",
      "                'POSIX_F_OPEN_START_TIMESTAMP': 3.1463661193847656,\n",
      "                'POSIX_F_READ_END_TIMESTAMP': 0.0,\n",
      "                'POSIX_F_READ_START_TIMESTAMP': 0.0,\n",
      "                'POSIX_F_READ_TIME': 0.0,\n",
      "                'POSIX_F_SLOWEST_RANK_TIME': 0.00013375282287597656,\n",
      "                'POSIX_F_VARIANCE_RANK_BYTES': 2680763.4375,\n",
      "                'POSIX_F_VARIANCE_RANK_TIME': 8.420000252584714e-10,\n",
      "                'POSIX_F_WRITE_END_TIMESTAMP': 3.224013566970825,\n",
      "                'POSIX_F_WRITE_START_TIMESTAMP': 3.1464245319366455,\n",
      "                'POSIX_F_WRITE_TIME': 0.00015878677368164062},\n",
      "  'id': 326674217917622578,\n",
      "  'rank': -1},\n",
      " {'counters': {'POSIX_ACCESS1_ACCESS': 192,\n",
      "               'POSIX_ACCESS1_COUNT': 7688,\n",
      "               'POSIX_ACCESS2_ACCESS': 13266432,\n",
      "               'POSIX_ACCESS2_COUNT': 3,\n",
      "               'POSIX_ACCESS3_ACCESS': 13284480,\n",
      "               'POSIX_ACCESS3_COUNT': 2,\n",
      "               'POSIX_ACCESS4_ACCESS': 96,\n",
      "               'POSIX_ACCESS4_COUNT': 2,\n",
      "               'POSIX_BYTES_READ': 39816960,\n",
      "               'POSIX_BYTES_WRITTEN': 54579416,\n",
      "               'POSIX_CONSEC_READS': 2,\n",
      "               'POSIX_CONSEC_WRITES': 0,\n",
      "               'POSIX_DUPS': 0,\n",
      "               'POSIX_FASTEST_RANK': 5,\n",
      "               'POSIX_FASTEST_RANK_BYTES': 328,\n",
      "               'POSIX_FDSYNCS': 0,\n",
      "               'POSIX_FILENOS': 0,\n",
      "               'POSIX_FILE_ALIGNMENT': 4096,\n",
      "               'POSIX_FILE_NOT_ALIGNED': 7581,\n",
      "               'POSIX_FSYNCS': 0,\n",
      "               'POSIX_MAX_BYTE_READ': 13286719,\n",
      "               'POSIX_MAX_BYTE_WRITTEN': 13286911,\n",
      "               'POSIX_MAX_READ_TIME_SIZE': 13266432,\n",
      "               'POSIX_MAX_WRITE_TIME_SIZE': 192,\n",
      "               'POSIX_MEM_ALIGNMENT': 8,\n",
      "               'POSIX_MEM_NOT_ALIGNED': 0,\n",
      "               'POSIX_MMAPS': -1,\n",
      "               'POSIX_MODE': 0,\n",
      "               'POSIX_OPENS': 17,\n",
      "               'POSIX_READS': 6,\n",
      "               'POSIX_RENAMED_FROM': 0,\n",
      "               'POSIX_RENAME_SOURCES': 0,\n",
      "               'POSIX_RENAME_TARGETS': 0,\n",
      "               'POSIX_RW_SWITCHES': 7,\n",
      "               'POSIX_SEEKS': 4,\n",
      "               'POSIX_SEQ_READS': 4,\n",
      "               'POSIX_SEQ_WRITES': 7691,\n",
      "               'POSIX_SIZE_READ_0_100': 3,\n",
      "               'POSIX_SIZE_READ_100K_1M': 0,\n",
      "               'POSIX_SIZE_READ_100M_1G': 0,\n",
      "               'POSIX_SIZE_READ_100_1K': 0,\n",
      "               'POSIX_SIZE_READ_10K_100K': 0,\n",
      "               'POSIX_SIZE_READ_10M_100M': 3,\n",
      "               'POSIX_SIZE_READ_1G_PLUS': 0,\n",
      "               'POSIX_SIZE_READ_1K_10K': 0,\n",
      "               'POSIX_SIZE_READ_1M_4M': 0,\n",
      "               'POSIX_SIZE_READ_4M_10M': 0,\n",
      "               'POSIX_SIZE_WRITE_0_100': 3,\n",
      "               'POSIX_SIZE_WRITE_100K_1M': 0,\n",
      "               'POSIX_SIZE_WRITE_100M_1G': 0,\n",
      "               'POSIX_SIZE_WRITE_100_1K': 7692,\n",
      "               'POSIX_SIZE_WRITE_10K_100K': 0,\n",
      "               'POSIX_SIZE_WRITE_10M_100M': 4,\n",
      "               'POSIX_SIZE_WRITE_1G_PLUS': 0,\n",
      "               'POSIX_SIZE_WRITE_1K_10K': 0,\n",
      "               'POSIX_SIZE_WRITE_1M_4M': 0,\n",
      "               'POSIX_SIZE_WRITE_4M_10M': 0,\n",
      "               'POSIX_SLOWEST_RANK': 0,\n",
      "               'POSIX_SLOWEST_RANK_BYTES': 92918976,\n",
      "               'POSIX_STATS': 32,\n",
      "               'POSIX_STRIDE1_COUNT': 7440,\n",
      "               'POSIX_STRIDE1_STRIDE': 384,\n",
      "               'POSIX_STRIDE2_COUNT': 240,\n",
      "               'POSIX_STRIDE2_STRIDE': 89664,\n",
      "               'POSIX_STRIDE3_COUNT': 1,\n",
      "               'POSIX_STRIDE3_STRIDE': 192,\n",
      "               'POSIX_STRIDE4_COUNT': 0,\n",
      "               'POSIX_STRIDE4_STRIDE': 0,\n",
      "               'POSIX_WRITES': 7699},\n",
      "  'fcounters': {'POSIX_F_CLOSE_END_TIMESTAMP': 2.9399993419647217,\n",
      "                'POSIX_F_CLOSE_START_TIMESTAMP': 0.661240816116333,\n",
      "                'POSIX_F_FASTEST_RANK_TIME': 0.015515565872192383,\n",
      "                'POSIX_F_MAX_READ_TIME': 0.003710508346557617,\n",
      "                'POSIX_F_MAX_WRITE_TIME': 0.01926708221435547,\n",
      "                'POSIX_F_META_TIME': 0.32000112533569336,\n",
      "                'POSIX_F_OPEN_END_TIMESTAMP': 0.6919937133789062,\n",
      "                'POSIX_F_OPEN_START_TIMESTAMP': 0.640803337097168,\n",
      "                'POSIX_F_READ_END_TIMESTAMP': 2.5029728412628174,\n",
      "                'POSIX_F_READ_START_TIMESTAMP': 1.1811556816101074,\n",
      "                'POSIX_F_READ_TIME': 0.009038209915161133,\n",
      "                'POSIX_F_SLOWEST_RANK_TIME': 0.057460784912109375,\n",
      "                'POSIX_F_VARIANCE_RANK_BYTES': 504830721066933.75,\n",
      "                'POSIX_F_VARIANCE_RANK_TIME': 0.0001455253280615576,\n",
      "                'POSIX_F_WRITE_END_TIMESTAMP': 2.827995538711548,\n",
      "                'POSIX_F_WRITE_START_TIMESTAMP': 1.2102155685424805,\n",
      "                'POSIX_F_WRITE_TIME': 0.12267065048217773},\n",
      "  'id': 8409215679985794245,\n",
      "  'rank': -1},\n",
      " {'counters': {'POSIX_ACCESS1_ACCESS': 128,\n",
      "               'POSIX_ACCESS1_COUNT': 50,\n",
      "               'POSIX_ACCESS2_ACCESS': 8192,\n",
      "               'POSIX_ACCESS2_COUNT': 15,\n",
      "               'POSIX_ACCESS3_ACCESS': 16384,\n",
      "               'POSIX_ACCESS3_COUNT': 1,\n",
      "               'POSIX_ACCESS4_ACCESS': 0,\n",
      "               'POSIX_ACCESS4_COUNT': 0,\n",
      "               'POSIX_BYTES_READ': 0,\n",
      "               'POSIX_BYTES_WRITTEN': 145664,\n",
      "               'POSIX_CONSEC_READS': 0,\n",
      "               'POSIX_CONSEC_WRITES': 49,\n",
      "               'POSIX_DUPS': 0,\n",
      "               'POSIX_FASTEST_RANK': 3,\n",
      "               'POSIX_FASTEST_RANK_BYTES': 384,\n",
      "               'POSIX_FDSYNCS': 0,\n",
      "               'POSIX_FILENOS': 0,\n",
      "               'POSIX_FILE_ALIGNMENT': 4096,\n",
      "               'POSIX_FILE_NOT_ALIGNED': 50,\n",
      "               'POSIX_FSYNCS': 0,\n",
      "               'POSIX_MAX_BYTE_READ': 0,\n",
      "               'POSIX_MAX_BYTE_WRITTEN': 139263,\n",
      "               'POSIX_MAX_READ_TIME_SIZE': 0,\n",
      "               'POSIX_MAX_WRITE_TIME_SIZE': 128,\n",
      "               'POSIX_MEM_ALIGNMENT': 8,\n",
      "               'POSIX_MEM_NOT_ALIGNED': 0,\n",
      "               'POSIX_MMAPS': -1,\n",
      "               'POSIX_MODE': 0,\n",
      "               'POSIX_OPENS': 17,\n",
      "               'POSIX_READS': 0,\n",
      "               'POSIX_RENAMED_FROM': 0,\n",
      "               'POSIX_RENAME_SOURCES': 0,\n",
      "               'POSIX_RENAME_TARGETS': 0,\n",
      "               'POSIX_RW_SWITCHES': 0,\n",
      "               'POSIX_SEEKS': 0,\n",
      "               'POSIX_SEQ_READS': 0,\n",
      "               'POSIX_SEQ_WRITES': 65,\n",
      "               'POSIX_SIZE_READ_0_100': 0,\n",
      "               'POSIX_SIZE_READ_100K_1M': 0,\n",
      "               'POSIX_SIZE_READ_100M_1G': 0,\n",
      "               'POSIX_SIZE_READ_100_1K': 0,\n",
      "               'POSIX_SIZE_READ_10K_100K': 0,\n",
      "               'POSIX_SIZE_READ_10M_100M': 0,\n",
      "               'POSIX_SIZE_READ_1G_PLUS': 0,\n",
      "               'POSIX_SIZE_READ_1K_10K': 0,\n",
      "               'POSIX_SIZE_READ_1M_4M': 0,\n",
      "               'POSIX_SIZE_READ_4M_10M': 0,\n",
      "               'POSIX_SIZE_WRITE_0_100': 0,\n",
      "               'POSIX_SIZE_WRITE_100K_1M': 0,\n",
      "               'POSIX_SIZE_WRITE_100M_1G': 0,\n",
      "               'POSIX_SIZE_WRITE_100_1K': 50,\n",
      "               'POSIX_SIZE_WRITE_10K_100K': 1,\n",
      "               'POSIX_SIZE_WRITE_10M_100M': 0,\n",
      "               'POSIX_SIZE_WRITE_1G_PLUS': 0,\n",
      "               'POSIX_SIZE_WRITE_1K_10K': 15,\n",
      "               'POSIX_SIZE_WRITE_1M_4M': 0,\n",
      "               'POSIX_SIZE_WRITE_4M_10M': 0,\n",
      "               'POSIX_SLOWEST_RANK': 0,\n",
      "               'POSIX_SLOWEST_RANK_BYTES': 139904,\n",
      "               'POSIX_STATS': 0,\n",
      "               'POSIX_STRIDE1_COUNT': 0,\n",
      "               'POSIX_STRIDE1_STRIDE': 0,\n",
      "               'POSIX_STRIDE2_COUNT': 0,\n",
      "               'POSIX_STRIDE2_STRIDE': 0,\n",
      "               'POSIX_STRIDE3_COUNT': 0,\n",
      "               'POSIX_STRIDE3_STRIDE': 0,\n",
      "               'POSIX_STRIDE4_COUNT': 0,\n",
      "               'POSIX_STRIDE4_STRIDE': 0,\n",
      "               'POSIX_WRITES': 66},\n",
      "  'fcounters': {'POSIX_F_CLOSE_END_TIMESTAMP': 3.2423202991485596,\n",
      "                'POSIX_F_CLOSE_START_TIMESTAMP': 0.09631133079528809,\n",
      "                'POSIX_F_FASTEST_RANK_TIME': 1.3113021850585938e-05,\n",
      "                'POSIX_F_MAX_READ_TIME': 0.0,\n",
      "                'POSIX_F_MAX_WRITE_TIME': 2.0503997802734375e-05,\n",
      "                'POSIX_F_META_TIME': 0.00022172927856445312,\n",
      "                'POSIX_F_OPEN_END_TIMESTAMP': 0.17998743057250977,\n",
      "                'POSIX_F_OPEN_START_TIMESTAMP': 0.09612631797790527,\n",
      "                'POSIX_F_READ_END_TIMESTAMP': 0.0,\n",
      "                'POSIX_F_READ_START_TIMESTAMP': 0.0,\n",
      "                'POSIX_F_READ_TIME': 0.0,\n",
      "                'POSIX_F_SLOWEST_RANK_TIME': 0.00024175643920898438,\n",
      "                'POSIX_F_VARIANCE_RANK_BYTES': 1140576000.0,\n",
      "                'POSIX_F_VARIANCE_RANK_TIME': 2.8058471102099247e-09,\n",
      "                'POSIX_F_WRITE_END_TIMESTAMP': 2.9760584831237793,\n",
      "                'POSIX_F_WRITE_START_TIMESTAMP': 0.09619760513305664,\n",
      "                'POSIX_F_WRITE_TIME': 0.00038242340087890625},\n",
      "  'id': 12580831639222665179,\n",
      "  'rank': -1}]\n"
     ]
    }
   ],
   "source": [
    "d = report.records['POSIX'].to_dict()\n",
    "pprint.pprint(d)"
   ]
  },
  {
   "cell_type": "markdown",
   "metadata": {},
   "source": [
    "To access a specific counters, just use the counter name corresponding to integer or floating point counter"
   ]
  },
  {
   "cell_type": "code",
   "execution_count": 15,
   "metadata": {},
   "outputs": [
    {
     "name": "stdout",
     "output_type": "stream",
     "text": [
      "0\n",
      "0.0\n"
     ]
    }
   ],
   "source": [
    "print(d[0]['counters']['POSIX_READS'])\n",
    "print(d[0]['fcounters']['POSIX_F_READ_TIME'])"
   ]
  },
  {
   "cell_type": "markdown",
   "metadata": {},
   "source": [
    "### Pandas DataFrame Format\n",
    "- use to_df() to get a deep copy of the data in this format\n",
    "- returns a dictionary with _counters_ and _fcounters_ members\n",
    "- _counters_ and _fcounters_ contain dataframes with all records\n",
    "  - counters names are the columns and the records are the rows\n",
    "  - _id_ and _rank_ are columns in the data frame"
   ]
  },
  {
   "cell_type": "code",
   "execution_count": 16,
   "metadata": {},
   "outputs": [
    {
     "name": "stdout",
     "output_type": "stream",
     "text": [
      "{'counters':    rank                    id  POSIX_OPENS  POSIX_FILENOS  POSIX_DUPS  \\\n",
      "0    -1    326674217917622578           17              0           0   \n",
      "1    -1   8409215679985794245           17              0           0   \n",
      "2    -1  12580831639222665179           17              0           0   \n",
      "\n",
      "   POSIX_READS  POSIX_WRITES  POSIX_SEEKS  POSIX_STATS  POSIX_MMAPS  ...  \\\n",
      "0            0            51            0            0           -1  ...   \n",
      "1            6          7699            4           32           -1  ...   \n",
      "2            0            66            0            0           -1  ...   \n",
      "\n",
      "   POSIX_ACCESS3_ACCESS  POSIX_ACCESS4_ACCESS  POSIX_ACCESS1_COUNT  \\\n",
      "0                   890                     0                   35   \n",
      "1              13284480                    96                 7688   \n",
      "2                 16384                     0                   50   \n",
      "\n",
      "   POSIX_ACCESS2_COUNT  POSIX_ACCESS3_COUNT  POSIX_ACCESS4_COUNT  \\\n",
      "0                   15                    1                    0   \n",
      "1                    3                    2                    2   \n",
      "2                   15                    1                    0   \n",
      "\n",
      "   POSIX_FASTEST_RANK  POSIX_FASTEST_RANK_BYTES  POSIX_SLOWEST_RANK  \\\n",
      "0                   2                       356                   0   \n",
      "1                   5                       328                   0   \n",
      "2                   3                       384                   0   \n",
      "\n",
      "   POSIX_SLOWEST_RANK_BYTES  \n",
      "0                      7120  \n",
      "1                  92918976  \n",
      "2                    139904  \n",
      "\n",
      "[3 rows x 71 columns],\n",
      " 'fcounters':    rank                    id  POSIX_F_OPEN_START_TIMESTAMP  \\\n",
      "0    -1    326674217917622578                      3.146366   \n",
      "1    -1   8409215679985794245                      0.640803   \n",
      "2    -1  12580831639222665179                      0.096126   \n",
      "\n",
      "   POSIX_F_READ_START_TIMESTAMP  POSIX_F_WRITE_START_TIMESTAMP  \\\n",
      "0                      0.000000                       3.146425   \n",
      "1                      1.181156                       1.210216   \n",
      "2                      0.000000                       0.096198   \n",
      "\n",
      "   POSIX_F_CLOSE_START_TIMESTAMP  POSIX_F_OPEN_END_TIMESTAMP  \\\n",
      "0                       3.146476                    3.223982   \n",
      "1                       0.661241                    0.691994   \n",
      "2                       0.096311                    0.179987   \n",
      "\n",
      "   POSIX_F_READ_END_TIMESTAMP  POSIX_F_WRITE_END_TIMESTAMP  \\\n",
      "0                    0.000000                     3.224014   \n",
      "1                    2.502973                     2.827996   \n",
      "2                    0.000000                     2.976058   \n",
      "\n",
      "   POSIX_F_CLOSE_END_TIMESTAMP  POSIX_F_READ_TIME  POSIX_F_WRITE_TIME  \\\n",
      "0                     3.224016           0.000000            0.000159   \n",
      "1                     2.939999           0.009038            0.122671   \n",
      "2                     3.242320           0.000000            0.000382   \n",
      "\n",
      "   POSIX_F_META_TIME  POSIX_F_MAX_READ_TIME  POSIX_F_MAX_WRITE_TIME  \\\n",
      "0           0.000201               0.000000                0.000012   \n",
      "1           0.320001               0.003711                0.019267   \n",
      "2           0.000222               0.000000                0.000021   \n",
      "\n",
      "   POSIX_F_FASTEST_RANK_TIME  POSIX_F_SLOWEST_RANK_TIME  \\\n",
      "0                   0.000009                   0.000134   \n",
      "1                   0.015516                   0.057461   \n",
      "2                   0.000013                   0.000242   \n",
      "\n",
      "   POSIX_F_VARIANCE_RANK_TIME  POSIX_F_VARIANCE_RANK_BYTES  \n",
      "0                8.420000e-10                 2.680763e+06  \n",
      "1                1.455253e-04                 5.048307e+14  \n",
      "2                2.805847e-09                 1.140576e+09  }\n"
     ]
    }
   ],
   "source": [
    "df = report.records['POSIX'].to_df()\n",
    "pprint.pprint(df)"
   ]
  },
  {
   "cell_type": "markdown",
   "metadata": {},
   "source": [
    "To access a specific counters, use the counter name for the column and use either the absolute index\n",
    "or the combination of rank and id."
   ]
  },
  {
   "cell_type": "code",
   "execution_count": 17,
   "metadata": {},
   "outputs": [
    {
     "name": "stdout",
     "output_type": "stream",
     "text": [
      "0.0\n",
      "0.0\n"
     ]
    }
   ],
   "source": [
    "pdf = df['counters']\n",
    "# with index\n",
    "print(pdf.loc[0]['POSIX_READS'])\n",
    "pdf = df['fcounters']\n",
    "# with rank,id\n",
    "rank = pdf.loc[0]['rank']\n",
    "id = pdf.loc[0]['id']\n",
    "print(pdf.query(\"rank == {rank} and id == {id}\".format(rank=rank,id=id))['POSIX_F_READ_TIME'][0])"
   ]
  },
  {
   "cell_type": "markdown",
   "metadata": {},
   "source": [
    "The _counters_ and _fcounters_ can be merged into a single data set since all the column names are unique."
   ]
  },
  {
   "cell_type": "code",
   "execution_count": 18,
   "metadata": {},
   "outputs": [
    {
     "name": "stdout",
     "output_type": "stream",
     "text": [
      "   rank                    id  POSIX_OPENS  POSIX_FILENOS  POSIX_DUPS  \\\n",
      "0    -1    326674217917622578           17              0           0   \n",
      "1    -1   8409215679985794245           17              0           0   \n",
      "2    -1  12580831639222665179           17              0           0   \n",
      "\n",
      "   POSIX_READS  POSIX_WRITES  POSIX_SEEKS  POSIX_STATS  POSIX_MMAPS  ...  \\\n",
      "0            0            51            0            0           -1  ...   \n",
      "1            6          7699            4           32           -1  ...   \n",
      "2            0            66            0            0           -1  ...   \n",
      "\n",
      "   POSIX_F_CLOSE_END_TIMESTAMP  POSIX_F_READ_TIME  POSIX_F_WRITE_TIME  \\\n",
      "0                     3.224016           0.000000            0.000159   \n",
      "1                     2.939999           0.009038            0.122671   \n",
      "2                     3.242320           0.000000            0.000382   \n",
      "\n",
      "   POSIX_F_META_TIME  POSIX_F_MAX_READ_TIME  POSIX_F_MAX_WRITE_TIME  \\\n",
      "0           0.000201               0.000000                0.000012   \n",
      "1           0.320001               0.003711                0.019267   \n",
      "2           0.000222               0.000000                0.000021   \n",
      "\n",
      "   POSIX_F_FASTEST_RANK_TIME  POSIX_F_SLOWEST_RANK_TIME  \\\n",
      "0                   0.000009                   0.000134   \n",
      "1                   0.015516                   0.057461   \n",
      "2                   0.000013                   0.000242   \n",
      "\n",
      "   POSIX_F_VARIANCE_RANK_TIME  POSIX_F_VARIANCE_RANK_BYTES  \n",
      "0                8.420000e-10                 2.680763e+06  \n",
      "1                1.455253e-04                 5.048307e+14  \n",
      "2                2.805847e-09                 1.140576e+09  \n",
      "\n",
      "[3 rows x 88 columns]\n"
     ]
    }
   ],
   "source": [
    "import pandas\n",
    "posix_df = pandas.merge(df['counters'], df['fcounters'], left_on=['id','rank'], right_on=['id','rank'])\n",
    "print(posix_df)"
   ]
  },
  {
   "cell_type": "markdown",
   "metadata": {},
   "source": [
    "## Basic Plotting using Pandas\n",
    "- You can make quick plots with pandas in many cases\n",
    "- in some cases, pandas plotting expects the data with a different organization which may make them difficult to use"
   ]
  },
  {
   "cell_type": "code",
   "execution_count": 19,
   "metadata": {},
   "outputs": [
    {
     "data": {
      "text/plain": [
       "<AxesSubplot:title={'center':'POSIX I/O Operation Counts per File'}, xlabel='id', ylabel='Operation Count'>"
      ]
     },
     "execution_count": 19,
     "metadata": {},
     "output_type": "execute_result"
    },
    {
     "data": {
      "image/png": "[encoded data removed]",
      "text/plain": [
       "<Figure size 432x288 with 1 Axes>"
      ]
     },
     "metadata": {
      "needs_background": "light"
     },
     "output_type": "display_data"
    }
   ],
   "source": [
    "posix_ops=[\"POSIX_OPENS\", \"POSIX_READS\", \"POSIX_WRITES\", \"POSIX_SEEKS\", \"POSIX_STATS\", \"POSIX_MMAPS\"]\n",
    "posix_df.plot(kind='bar', x='id', y=posix_ops,\n",
    "              title='POSIX I/O Operation Counts per File', ylabel='Operation Count')"
   ]
  },
  {
   "cell_type": "markdown",
   "metadata": {},
   "source": [
    "## Counter Names\n",
    "- The code below will print out all the counter names that are defined by each module\n",
    "- counter names match the names defined in the C code as well as the darshan-parser output"
   ]
  },
  {
   "cell_type": "code",
   "execution_count": 20,
   "metadata": {
    "scrolled": false
   },
   "outputs": [
    {
     "name": "stdout",
     "output_type": "stream",
     "text": [
      "********** Counters for POSIX **********\n",
      "['POSIX_OPENS',\n",
      " 'POSIX_FILENOS',\n",
      " 'POSIX_DUPS',\n",
      " 'POSIX_READS',\n",
      " 'POSIX_WRITES',\n",
      " 'POSIX_SEEKS',\n",
      " 'POSIX_STATS',\n",
      " 'POSIX_MMAPS',\n",
      " 'POSIX_FSYNCS',\n",
      " 'POSIX_FDSYNCS',\n",
      " 'POSIX_RENAME_SOURCES',\n",
      " 'POSIX_RENAME_TARGETS',\n",
      " 'POSIX_RENAMED_FROM',\n",
      " 'POSIX_MODE',\n",
      " 'POSIX_BYTES_READ',\n",
      " 'POSIX_BYTES_WRITTEN',\n",
      " 'POSIX_MAX_BYTE_READ',\n",
      " 'POSIX_MAX_BYTE_WRITTEN',\n",
      " 'POSIX_CONSEC_READS',\n",
      " 'POSIX_CONSEC_WRITES',\n",
      " 'POSIX_SEQ_READS',\n",
      " 'POSIX_SEQ_WRITES',\n",
      " 'POSIX_RW_SWITCHES',\n",
      " 'POSIX_MEM_NOT_ALIGNED',\n",
      " 'POSIX_MEM_ALIGNMENT',\n",
      " 'POSIX_FILE_NOT_ALIGNED',\n",
      " 'POSIX_FILE_ALIGNMENT',\n",
      " 'POSIX_MAX_READ_TIME_SIZE',\n",
      " 'POSIX_MAX_WRITE_TIME_SIZE',\n",
      " 'POSIX_SIZE_READ_0_100',\n",
      " 'POSIX_SIZE_READ_100_1K',\n",
      " 'POSIX_SIZE_READ_1K_10K',\n",
      " 'POSIX_SIZE_READ_10K_100K',\n",
      " 'POSIX_SIZE_READ_100K_1M',\n",
      " 'POSIX_SIZE_READ_1M_4M',\n",
      " 'POSIX_SIZE_READ_4M_10M',\n",
      " 'POSIX_SIZE_READ_10M_100M',\n",
      " 'POSIX_SIZE_READ_100M_1G',\n",
      " 'POSIX_SIZE_READ_1G_PLUS',\n",
      " 'POSIX_SIZE_WRITE_0_100',\n",
      " 'POSIX_SIZE_WRITE_100_1K',\n",
      " 'POSIX_SIZE_WRITE_1K_10K',\n",
      " 'POSIX_SIZE_WRITE_10K_100K',\n",
      " 'POSIX_SIZE_WRITE_100K_1M',\n",
      " 'POSIX_SIZE_WRITE_1M_4M',\n",
      " 'POSIX_SIZE_WRITE_4M_10M',\n",
      " 'POSIX_SIZE_WRITE_10M_100M',\n",
      " 'POSIX_SIZE_WRITE_100M_1G',\n",
      " 'POSIX_SIZE_WRITE_1G_PLUS',\n",
      " 'POSIX_STRIDE1_STRIDE',\n",
      " 'POSIX_STRIDE2_STRIDE',\n",
      " 'POSIX_STRIDE3_STRIDE',\n",
      " 'POSIX_STRIDE4_STRIDE',\n",
      " 'POSIX_STRIDE1_COUNT',\n",
      " 'POSIX_STRIDE2_COUNT',\n",
      " 'POSIX_STRIDE3_COUNT',\n",
      " 'POSIX_STRIDE4_COUNT',\n",
      " 'POSIX_ACCESS1_ACCESS',\n",
      " 'POSIX_ACCESS2_ACCESS',\n",
      " 'POSIX_ACCESS3_ACCESS',\n",
      " 'POSIX_ACCESS4_ACCESS',\n",
      " 'POSIX_ACCESS1_COUNT',\n",
      " 'POSIX_ACCESS2_COUNT',\n",
      " 'POSIX_ACCESS3_COUNT',\n",
      " 'POSIX_ACCESS4_COUNT',\n",
      " 'POSIX_FASTEST_RANK',\n",
      " 'POSIX_FASTEST_RANK_BYTES',\n",
      " 'POSIX_SLOWEST_RANK',\n",
      " 'POSIX_SLOWEST_RANK_BYTES']\n",
      "['POSIX_F_OPEN_START_TIMESTAMP',\n",
      " 'POSIX_F_READ_START_TIMESTAMP',\n",
      " 'POSIX_F_WRITE_START_TIMESTAMP',\n",
      " 'POSIX_F_CLOSE_START_TIMESTAMP',\n",
      " 'POSIX_F_OPEN_END_TIMESTAMP',\n",
      " 'POSIX_F_READ_END_TIMESTAMP',\n",
      " 'POSIX_F_WRITE_END_TIMESTAMP',\n",
      " 'POSIX_F_CLOSE_END_TIMESTAMP',\n",
      " 'POSIX_F_READ_TIME',\n",
      " 'POSIX_F_WRITE_TIME',\n",
      " 'POSIX_F_META_TIME',\n",
      " 'POSIX_F_MAX_READ_TIME',\n",
      " 'POSIX_F_MAX_WRITE_TIME',\n",
      " 'POSIX_F_FASTEST_RANK_TIME',\n",
      " 'POSIX_F_SLOWEST_RANK_TIME',\n",
      " 'POSIX_F_VARIANCE_RANK_TIME',\n",
      " 'POSIX_F_VARIANCE_RANK_BYTES']\n",
      "********** Counters for MPI-IO **********\n",
      "['MPIIO_INDEP_OPENS',\n",
      " 'MPIIO_COLL_OPENS',\n",
      " 'MPIIO_INDEP_READS',\n",
      " 'MPIIO_INDEP_WRITES',\n",
      " 'MPIIO_COLL_READS',\n",
      " 'MPIIO_COLL_WRITES',\n",
      " 'MPIIO_SPLIT_READS',\n",
      " 'MPIIO_SPLIT_WRITES',\n",
      " 'MPIIO_NB_READS',\n",
      " 'MPIIO_NB_WRITES',\n",
      " 'MPIIO_SYNCS',\n",
      " 'MPIIO_HINTS',\n",
      " 'MPIIO_VIEWS',\n",
      " 'MPIIO_MODE',\n",
      " 'MPIIO_BYTES_READ',\n",
      " 'MPIIO_BYTES_WRITTEN',\n",
      " 'MPIIO_RW_SWITCHES',\n",
      " 'MPIIO_MAX_READ_TIME_SIZE',\n",
      " 'MPIIO_MAX_WRITE_TIME_SIZE',\n",
      " 'MPIIO_SIZE_READ_AGG_0_100',\n",
      " 'MPIIO_SIZE_READ_AGG_100_1K',\n",
      " 'MPIIO_SIZE_READ_AGG_1K_10K',\n",
      " 'MPIIO_SIZE_READ_AGG_10K_100K',\n",
      " 'MPIIO_SIZE_READ_AGG_100K_1M',\n",
      " 'MPIIO_SIZE_READ_AGG_1M_4M',\n",
      " 'MPIIO_SIZE_READ_AGG_4M_10M',\n",
      " 'MPIIO_SIZE_READ_AGG_10M_100M',\n",
      " 'MPIIO_SIZE_READ_AGG_100M_1G',\n",
      " 'MPIIO_SIZE_READ_AGG_1G_PLUS',\n",
      " 'MPIIO_SIZE_WRITE_AGG_0_100',\n",
      " 'MPIIO_SIZE_WRITE_AGG_100_1K',\n",
      " 'MPIIO_SIZE_WRITE_AGG_1K_10K',\n",
      " 'MPIIO_SIZE_WRITE_AGG_10K_100K',\n",
      " 'MPIIO_SIZE_WRITE_AGG_100K_1M',\n",
      " 'MPIIO_SIZE_WRITE_AGG_1M_4M',\n",
      " 'MPIIO_SIZE_WRITE_AGG_4M_10M',\n",
      " 'MPIIO_SIZE_WRITE_AGG_10M_100M',\n",
      " 'MPIIO_SIZE_WRITE_AGG_100M_1G',\n",
      " 'MPIIO_SIZE_WRITE_AGG_1G_PLUS',\n",
      " 'MPIIO_ACCESS1_ACCESS',\n",
      " 'MPIIO_ACCESS2_ACCESS',\n",
      " 'MPIIO_ACCESS3_ACCESS',\n",
      " 'MPIIO_ACCESS4_ACCESS',\n",
      " 'MPIIO_ACCESS1_COUNT',\n",
      " 'MPIIO_ACCESS2_COUNT',\n",
      " 'MPIIO_ACCESS3_COUNT',\n",
      " 'MPIIO_ACCESS4_COUNT',\n",
      " 'MPIIO_FASTEST_RANK',\n",
      " 'MPIIO_FASTEST_RANK_BYTES',\n",
      " 'MPIIO_SLOWEST_RANK',\n",
      " 'MPIIO_SLOWEST_RANK_BYTES']\n",
      "['MPIIO_F_OPEN_START_TIMESTAMP',\n",
      " 'MPIIO_F_READ_START_TIMESTAMP',\n",
      " 'MPIIO_F_WRITE_START_TIMESTAMP',\n",
      " 'MPIIO_F_CLOSE_START_TIMESTAMP',\n",
      " 'MPIIO_F_OPEN_END_TIMESTAMP',\n",
      " 'MPIIO_F_READ_END_TIMESTAMP',\n",
      " 'MPIIO_F_WRITE_END_TIMESTAMP',\n",
      " 'MPIIO_F_CLOSE_END_TIMESTAMP',\n",
      " 'MPIIO_F_READ_TIME',\n",
      " 'MPIIO_F_WRITE_TIME',\n",
      " 'MPIIO_F_META_TIME',\n",
      " 'MPIIO_F_MAX_READ_TIME',\n",
      " 'MPIIO_F_MAX_WRITE_TIME',\n",
      " 'MPIIO_F_FASTEST_RANK_TIME',\n",
      " 'MPIIO_F_SLOWEST_RANK_TIME',\n",
      " 'MPIIO_F_VARIANCE_RANK_TIME',\n",
      " 'MPIIO_F_VARIANCE_RANK_BYTES']\n",
      "********** Counters for H5F **********\n",
      "['H5F_OPENS', 'H5F_FLUSHES', 'H5F_USE_MPIIO']\n",
      "['H5F_F_OPEN_START_TIMESTAMP',\n",
      " 'H5F_F_CLOSE_START_TIMESTAMP',\n",
      " 'H5F_F_OPEN_END_TIMESTAMP',\n",
      " 'H5F_F_CLOSE_END_TIMESTAMP',\n",
      " 'H5F_F_META_TIME']\n",
      "********** Counters for H5D **********\n",
      "['H5D_OPENS',\n",
      " 'H5D_READS',\n",
      " 'H5D_WRITES',\n",
      " 'H5D_FLUSHES',\n",
      " 'H5D_BYTES_READ',\n",
      " 'H5D_BYTES_WRITTEN',\n",
      " 'H5D_RW_SWITCHES',\n",
      " 'H5D_REGULAR_HYPERSLAB_SELECTS',\n",
      " 'H5D_IRREGULAR_HYPERSLAB_SELECTS',\n",
      " 'H5D_POINT_SELECTS',\n",
      " 'H5D_MAX_READ_TIME_SIZE',\n",
      " 'H5D_MAX_WRITE_TIME_SIZE',\n",
      " 'H5D_SIZE_READ_AGG_0_100',\n",
      " 'H5D_SIZE_READ_AGG_100_1K',\n",
      " 'H5D_SIZE_READ_AGG_1K_10K',\n",
      " 'H5D_SIZE_READ_AGG_10K_100K',\n",
      " 'H5D_SIZE_READ_AGG_100K_1M',\n",
      " 'H5D_SIZE_READ_AGG_1M_4M',\n",
      " 'H5D_SIZE_READ_AGG_4M_10M',\n",
      " 'H5D_SIZE_READ_AGG_10M_100M',\n",
      " 'H5D_SIZE_READ_AGG_100M_1G',\n",
      " 'H5D_SIZE_READ_AGG_1G_PLUS',\n",
      " 'H5D_SIZE_WRITE_AGG_0_100',\n",
      " 'H5D_SIZE_WRITE_AGG_100_1K',\n",
      " 'H5D_SIZE_WRITE_AGG_1K_10K',\n",
      " 'H5D_SIZE_WRITE_AGG_10K_100K',\n",
      " 'H5D_SIZE_WRITE_AGG_100K_1M',\n",
      " 'H5D_SIZE_WRITE_AGG_1M_4M',\n",
      " 'H5D_SIZE_WRITE_AGG_4M_10M',\n",
      " 'H5D_SIZE_WRITE_AGG_10M_100M',\n",
      " 'H5D_SIZE_WRITE_AGG_100M_1G',\n",
      " 'H5D_SIZE_WRITE_AGG_1G_PLUS',\n",
      " 'H5D_ACCESS1_ACCESS',\n",
      " 'H5D_ACCESS1_LENGTH_D1',\n",
      " 'H5D_ACCESS1_LENGTH_D2',\n",
      " 'H5D_ACCESS1_LENGTH_D3',\n",
      " 'H5D_ACCESS1_LENGTH_D4',\n",
      " 'H5D_ACCESS1_LENGTH_D5',\n",
      " 'H5D_ACCESS1_STRIDE_D1',\n",
      " 'H5D_ACCESS1_STRIDE_D2',\n",
      " 'H5D_ACCESS1_STRIDE_D3',\n",
      " 'H5D_ACCESS1_STRIDE_D4',\n",
      " 'H5D_ACCESS1_STRIDE_D5',\n",
      " 'H5D_ACCESS2_ACCESS',\n",
      " 'H5D_ACCESS2_LENGTH_D1',\n",
      " 'H5D_ACCESS2_LENGTH_D2',\n",
      " 'H5D_ACCESS2_LENGTH_D3',\n",
      " 'H5D_ACCESS2_LENGTH_D4',\n",
      " 'H5D_ACCESS2_LENGTH_D5',\n",
      " 'H5D_ACCESS2_STRIDE_D1',\n",
      " 'H5D_ACCESS2_STRIDE_D2',\n",
      " 'H5D_ACCESS2_STRIDE_D3',\n",
      " 'H5D_ACCESS2_STRIDE_D4',\n",
      " 'H5D_ACCESS2_STRIDE_D5',\n",
      " 'H5D_ACCESS3_ACCESS',\n",
      " 'H5D_ACCESS3_LENGTH_D1',\n",
      " 'H5D_ACCESS3_LENGTH_D2',\n",
      " 'H5D_ACCESS3_LENGTH_D3',\n",
      " 'H5D_ACCESS3_LENGTH_D4',\n",
      " 'H5D_ACCESS3_LENGTH_D5',\n",
      " 'H5D_ACCESS3_STRIDE_D1',\n",
      " 'H5D_ACCESS3_STRIDE_D2',\n",
      " 'H5D_ACCESS3_STRIDE_D3',\n",
      " 'H5D_ACCESS3_STRIDE_D4',\n",
      " 'H5D_ACCESS3_STRIDE_D5',\n",
      " 'H5D_ACCESS4_ACCESS',\n",
      " 'H5D_ACCESS4_LENGTH_D1',\n",
      " 'H5D_ACCESS4_LENGTH_D2',\n",
      " 'H5D_ACCESS4_LENGTH_D3',\n",
      " 'H5D_ACCESS4_LENGTH_D4',\n",
      " 'H5D_ACCESS4_LENGTH_D5',\n",
      " 'H5D_ACCESS4_STRIDE_D1',\n",
      " 'H5D_ACCESS4_STRIDE_D2',\n",
      " 'H5D_ACCESS4_STRIDE_D3',\n",
      " 'H5D_ACCESS4_STRIDE_D4',\n",
      " 'H5D_ACCESS4_STRIDE_D5',\n",
      " 'H5D_ACCESS1_COUNT',\n",
      " 'H5D_ACCESS2_COUNT',\n",
      " 'H5D_ACCESS3_COUNT',\n",
      " 'H5D_ACCESS4_COUNT',\n",
      " 'H5D_DATASPACE_NDIMS',\n",
      " 'H5D_DATASPACE_NPOINTS',\n",
      " 'H5D_DATATYPE_SIZE',\n",
      " 'H5D_CHUNK_SIZE_D1',\n",
      " 'H5D_CHUNK_SIZE_D2',\n",
      " 'H5D_CHUNK_SIZE_D3',\n",
      " 'H5D_CHUNK_SIZE_D4',\n",
      " 'H5D_CHUNK_SIZE_D5',\n",
      " 'H5D_USE_MPIIO_COLLECTIVE',\n",
      " 'H5D_USE_DEPRECATED',\n",
      " 'H5D_FASTEST_RANK',\n",
      " 'H5D_FASTEST_RANK_BYTES',\n",
      " 'H5D_SLOWEST_RANK',\n",
      " 'H5D_SLOWEST_RANK_BYTES']\n",
      "['H5D_F_OPEN_START_TIMESTAMP',\n",
      " 'H5D_F_READ_START_TIMESTAMP',\n",
      " 'H5D_F_WRITE_START_TIMESTAMP',\n",
      " 'H5D_F_CLOSE_START_TIMESTAMP',\n",
      " 'H5D_F_OPEN_END_TIMESTAMP',\n",
      " 'H5D_F_READ_END_TIMESTAMP',\n",
      " 'H5D_F_WRITE_END_TIMESTAMP',\n",
      " 'H5D_F_CLOSE_END_TIMESTAMP',\n",
      " 'H5D_F_READ_TIME',\n",
      " 'H5D_F_WRITE_TIME',\n",
      " 'H5D_F_META_TIME',\n",
      " 'H5D_F_MAX_READ_TIME',\n",
      " 'H5D_F_MAX_WRITE_TIME',\n",
      " 'H5D_F_FASTEST_RANK_TIME',\n",
      " 'H5D_F_SLOWEST_RANK_TIME',\n",
      " 'H5D_F_VARIANCE_RANK_TIME',\n",
      " 'H5D_F_VARIANCE_RANK_BYTES']\n"
     ]
    }
   ],
   "source": [
    "for key in report.counters.keys():\n",
    "    print(\"{1} Counters for {0} {1}\".format(key, '*'*10))\n",
    "    for counter in report.counters[key].keys():\n",
    "        pprint.pprint(report.counters[key][counter])"
   ]
  },
  {
   "cell_type": "code",
   "execution_count": null,
   "metadata": {},
   "outputs": [],
   "source": []
  }
 ],
 "metadata": {
  "kernelspec": {
   "display_name": "Python 3",
   "language": "python",
   "name": "python3"
  },
  "language_info": {
   "codemirror_mode": {
    "name": "ipython",
    "version": 3
   },
   "file_extension": ".py",
   "mimetype": "text/x-python",
   "name": "python",
   "nbconvert_exporter": "python",
   "pygments_lexer": "ipython3",
   "version": "3.8.5"
  }
 },
 "nbformat": 4,
 "nbformat_minor": 4
}
